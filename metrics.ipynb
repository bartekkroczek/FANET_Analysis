{
 "cells": [
  {
   "cell_type": "code",
   "execution_count": 1,
   "metadata": {
    "collapsed": true
   },
   "outputs": [],
   "source": [
    "import pandas as pd\n",
    "import os\n",
    "import yaml\n",
    "import collections\n",
    "import numpy as np\n",
    "import math"
   ]
  },
  {
   "cell_type": "markdown",
   "metadata": {},
   "source": [
    "# Load data"
   ]
  },
  {
   "cell_type": "code",
   "execution_count": 2,
   "metadata": {
    "collapsed": true
   },
   "outputs": [],
   "source": [
    "SACC_FOLDER = os.path.join('..','Dane trackingowe', 'sacc')\n",
    "BEH_FOLDER = os.path.join('..','results', 'beh')\n",
    "FIX_FOLDER = os.path.join('..', 'Dane trackingowe', 'fix')\n",
    "RAW_FOLDER = os.path.join('..', 'Dane trackingowe', 'raw')\n",
    "YAML_FOLDER = os.path.join('..', 'results', 'yaml')"
   ]
  },
  {
   "cell_type": "code",
   "execution_count": 3,
   "metadata": {
    "collapsed": true
   },
   "outputs": [],
   "source": [
    "sacc_files = os.listdir(SACC_FOLDER)\n",
    "beh_files = os.listdir(BEH_FOLDER)\n",
    "fix_files = os.listdir(FIX_FOLDER)\n",
    "raw_files = os.listdir(RAW_FOLDER)\n",
    "yaml_files = os.listdir(YAML_FOLDER)"
   ]
  },
  {
   "cell_type": "code",
   "execution_count": 1,
   "metadata": {},
   "outputs": [
    {
     "ename": "SyntaxError",
     "evalue": "Missing parentheses in call to 'print'. Did you mean print(part_id)? (<ipython-input-1-b1137ce6c923>, line 7)",
     "output_type": "error",
     "traceback": [
      "\u001b[0;36m  File \u001b[0;32m\"<ipython-input-1-b1137ce6c923>\"\u001b[0;36m, line \u001b[0;32m7\u001b[0m\n\u001b[0;31m    print part_id\u001b[0m\n\u001b[0m                ^\u001b[0m\n\u001b[0;31mSyntaxError\u001b[0m\u001b[0;31m:\u001b[0m Missing parentheses in call to 'print'. Did you mean print(part_id)?\n"
     ]
    }
   ],
   "source": [
    "part_id = sacc_files[34].split('_')[0]\n",
    "sacc_data = pd.read_csv(os.path.join(SACC_FOLDER, part_id + '_sacc.csv')).drop('Unnamed: 0', 1)\n",
    "beh_data = pd.read_csv(os.path.join(BEH_FOLDER, part_id + '_beh.csv'))\n",
    "fix_data = pd.read_csv(os.path.join(FIX_FOLDER, part_id + '_fix.csv')).drop('Unnamed: 0', 1)\n",
    "raw_data = pd.read_csv(os.path.join(RAW_FOLDER, part_id + '_raw.csv')).drop('Unnamed: 0', 1)\n",
    "yaml_data = yaml.load(open(os.path.join(YAML_FOLDER, part_id + '.yaml'), 'r'))\n",
    "print part_id"
   ]
  },
  {
   "cell_type": "markdown",
   "metadata": {},
   "source": [
    "# Remove trainig trials"
   ]
  },
  {
   "cell_type": "code",
   "execution_count": 5,
   "metadata": {
    "collapsed": true
   },
   "outputs": [],
   "source": [
    "# training_trials_no = sum(beh_data.exp == 'training')\n",
    "# beh_data = beh_data.ix[training_trials_no:]\n",
    "# fix_data = fix_data[fix_data.block > training_trials_no]\n",
    "# raw_data = raw_data[raw_data.block > training_trials_no]"
   ]
  },
  {
   "cell_type": "code",
   "execution_count": 6,
   "metadata": {},
   "outputs": [
    {
     "data": {
      "text/html": [
       "<div>\n",
       "<table border=\"1\" class=\"dataframe\">\n",
       "  <thead>\n",
       "    <tr style=\"text-align: right;\">\n",
       "      <th></th>\n",
       "      <th>session_id</th>\n",
       "      <th>start_time</th>\n",
       "      <th>end_time</th>\n",
       "      <th>choosed_option</th>\n",
       "      <th>ans_accept</th>\n",
       "      <th>rt</th>\n",
       "      <th>corr</th>\n",
       "      <th>time</th>\n",
       "      <th>rel</th>\n",
       "      <th>feedb</th>\n",
       "      <th>wait</th>\n",
       "      <th>exp</th>\n",
       "      <th>type</th>\n",
       "      <th>answers</th>\n",
       "    </tr>\n",
       "  </thead>\n",
       "  <tbody>\n",
       "    <tr>\n",
       "      <th>0</th>\n",
       "      <td>1</td>\n",
       "      <td>912.015100</td>\n",
       "      <td>1062.003110</td>\n",
       "      <td>-1</td>\n",
       "      <td>False</td>\n",
       "      <td>-1.000000</td>\n",
       "      <td>False</td>\n",
       "      <td>150</td>\n",
       "      <td>3</td>\n",
       "      <td>1</td>\n",
       "      <td>5</td>\n",
       "      <td>training</td>\n",
       "      <td>trial</td>\n",
       "      <td>[1, 2, 3, 4, 5, 6]</td>\n",
       "    </tr>\n",
       "    <tr>\n",
       "      <th>1</th>\n",
       "      <td>1</td>\n",
       "      <td>1062.836508</td>\n",
       "      <td>1191.173823</td>\n",
       "      <td>D1</td>\n",
       "      <td>True</td>\n",
       "      <td>128.335384</td>\n",
       "      <td>True</td>\n",
       "      <td>150</td>\n",
       "      <td>3</td>\n",
       "      <td>1</td>\n",
       "      <td>5</td>\n",
       "      <td>training</td>\n",
       "      <td>trial</td>\n",
       "      <td>[1, 2, 3, 4, 5, 6]</td>\n",
       "    </tr>\n",
       "    <tr>\n",
       "      <th>2</th>\n",
       "      <td>1</td>\n",
       "      <td>1191.940560</td>\n",
       "      <td>1274.593100</td>\n",
       "      <td>D2</td>\n",
       "      <td>True</td>\n",
       "      <td>82.651217</td>\n",
       "      <td>False</td>\n",
       "      <td>150</td>\n",
       "      <td>4</td>\n",
       "      <td>1</td>\n",
       "      <td>5</td>\n",
       "      <td>training</td>\n",
       "      <td>trial</td>\n",
       "      <td>[1, 2, 3, 4, 5, 6]</td>\n",
       "    </tr>\n",
       "    <tr>\n",
       "      <th>3</th>\n",
       "      <td>1</td>\n",
       "      <td>1297.660501</td>\n",
       "      <td>1346.678674</td>\n",
       "      <td>D1</td>\n",
       "      <td>True</td>\n",
       "      <td>49.006387</td>\n",
       "      <td>True</td>\n",
       "      <td>120</td>\n",
       "      <td>3</td>\n",
       "      <td>0</td>\n",
       "      <td>5</td>\n",
       "      <td>experiment</td>\n",
       "      <td>trial</td>\n",
       "      <td>[1, 4, 4, 5, 5, 6]</td>\n",
       "    </tr>\n",
       "    <tr>\n",
       "      <th>4</th>\n",
       "      <td>1</td>\n",
       "      <td>1347.462066</td>\n",
       "      <td>1391.013404</td>\n",
       "      <td>D1</td>\n",
       "      <td>True</td>\n",
       "      <td>43.539309</td>\n",
       "      <td>True</td>\n",
       "      <td>120</td>\n",
       "      <td>4</td>\n",
       "      <td>0</td>\n",
       "      <td>5</td>\n",
       "      <td>experiment</td>\n",
       "      <td>trial</td>\n",
       "      <td>[1, 3, 3, 4, 4, 6]</td>\n",
       "    </tr>\n",
       "  </tbody>\n",
       "</table>\n",
       "</div>"
      ],
      "text/plain": [
       "   session_id   start_time     end_time choosed_option ans_accept          rt  \\\n",
       "0           1   912.015100  1062.003110             -1      False   -1.000000   \n",
       "1           1  1062.836508  1191.173823             D1       True  128.335384   \n",
       "2           1  1191.940560  1274.593100             D2       True   82.651217   \n",
       "3           1  1297.660501  1346.678674             D1       True   49.006387   \n",
       "4           1  1347.462066  1391.013404             D1       True   43.539309   \n",
       "\n",
       "    corr  time  rel  feedb  wait         exp   type             answers  \n",
       "0  False   150    3      1     5    training  trial  [1, 2, 3, 4, 5, 6]  \n",
       "1   True   150    3      1     5    training  trial  [1, 2, 3, 4, 5, 6]  \n",
       "2  False   150    4      1     5    training  trial  [1, 2, 3, 4, 5, 6]  \n",
       "3   True   120    3      0     5  experiment  trial  [1, 4, 4, 5, 5, 6]  \n",
       "4   True   120    4      0     5  experiment  trial  [1, 3, 3, 4, 4, 6]  "
      ]
     },
     "execution_count": 6,
     "metadata": {},
     "output_type": "execute_result"
    }
   ],
   "source": [
    "beh_data.head()"
   ]
  },
  {
   "cell_type": "code",
   "execution_count": 7,
   "metadata": {},
   "outputs": [
    {
     "data": {
      "text/html": [
       "<div>\n",
       "<table border=\"1\" class=\"dataframe\">\n",
       "  <thead>\n",
       "    <tr style=\"text-align: right;\">\n",
       "      <th></th>\n",
       "      <th>stime</th>\n",
       "      <th>etime</th>\n",
       "      <th>dur</th>\n",
       "      <th>axp</th>\n",
       "      <th>ayp</th>\n",
       "      <th>aps</th>\n",
       "      <th>eye</th>\n",
       "      <th>block</th>\n",
       "    </tr>\n",
       "  </thead>\n",
       "  <tbody>\n",
       "    <tr>\n",
       "      <th>0</th>\n",
       "      <td>1447070</td>\n",
       "      <td>1447093</td>\n",
       "      <td>24</td>\n",
       "      <td>980.6</td>\n",
       "      <td>133.9</td>\n",
       "      <td>801</td>\n",
       "      <td>R</td>\n",
       "      <td>1</td>\n",
       "    </tr>\n",
       "    <tr>\n",
       "      <th>1</th>\n",
       "      <td>1447172</td>\n",
       "      <td>1447294</td>\n",
       "      <td>123</td>\n",
       "      <td>1082.1</td>\n",
       "      <td>371.4</td>\n",
       "      <td>825</td>\n",
       "      <td>R</td>\n",
       "      <td>1</td>\n",
       "    </tr>\n",
       "    <tr>\n",
       "      <th>2</th>\n",
       "      <td>1447379</td>\n",
       "      <td>1447510</td>\n",
       "      <td>132</td>\n",
       "      <td>82.8</td>\n",
       "      <td>229.8</td>\n",
       "      <td>867</td>\n",
       "      <td>R</td>\n",
       "      <td>1</td>\n",
       "    </tr>\n",
       "    <tr>\n",
       "      <th>3</th>\n",
       "      <td>1447562</td>\n",
       "      <td>1447878</td>\n",
       "      <td>317</td>\n",
       "      <td>35.1</td>\n",
       "      <td>20.1</td>\n",
       "      <td>871</td>\n",
       "      <td>R</td>\n",
       "      <td>1</td>\n",
       "    </tr>\n",
       "    <tr>\n",
       "      <th>4</th>\n",
       "      <td>1447940</td>\n",
       "      <td>1448077</td>\n",
       "      <td>138</td>\n",
       "      <td>568.7</td>\n",
       "      <td>264.4</td>\n",
       "      <td>910</td>\n",
       "      <td>R</td>\n",
       "      <td>1</td>\n",
       "    </tr>\n",
       "  </tbody>\n",
       "</table>\n",
       "</div>"
      ],
      "text/plain": [
       "     stime    etime  dur     axp    ayp  aps eye  block\n",
       "0  1447070  1447093   24   980.6  133.9  801   R      1\n",
       "1  1447172  1447294  123  1082.1  371.4  825   R      1\n",
       "2  1447379  1447510  132    82.8  229.8  867   R      1\n",
       "3  1447562  1447878  317    35.1   20.1  871   R      1\n",
       "4  1447940  1448077  138   568.7  264.4  910   R      1"
      ]
     },
     "execution_count": 7,
     "metadata": {},
     "output_type": "execute_result"
    }
   ],
   "source": [
    "fix_data.head()"
   ]
  },
  {
   "cell_type": "code",
   "execution_count": 8,
   "metadata": {},
   "outputs": [
    {
     "data": {
      "text/html": [
       "<div>\n",
       "<table border=\"1\" class=\"dataframe\">\n",
       "  <thead>\n",
       "    <tr style=\"text-align: right;\">\n",
       "      <th></th>\n",
       "      <th>time</th>\n",
       "      <th>xp</th>\n",
       "      <th>yp</th>\n",
       "      <th>ps</th>\n",
       "      <th>cr.info</th>\n",
       "      <th>block</th>\n",
       "    </tr>\n",
       "  </thead>\n",
       "  <tbody>\n",
       "    <tr>\n",
       "      <th>0</th>\n",
       "      <td>1447063.0</td>\n",
       "      <td>979.2</td>\n",
       "      <td>131.5</td>\n",
       "      <td>801.0</td>\n",
       "      <td>...</td>\n",
       "      <td>1</td>\n",
       "    </tr>\n",
       "    <tr>\n",
       "      <th>1</th>\n",
       "      <td>1447064.0</td>\n",
       "      <td>979.2</td>\n",
       "      <td>131.5</td>\n",
       "      <td>801.0</td>\n",
       "      <td>...</td>\n",
       "      <td>1</td>\n",
       "    </tr>\n",
       "    <tr>\n",
       "      <th>2</th>\n",
       "      <td>1447065.0</td>\n",
       "      <td>979.4</td>\n",
       "      <td>131.5</td>\n",
       "      <td>801.0</td>\n",
       "      <td>...</td>\n",
       "      <td>1</td>\n",
       "    </tr>\n",
       "    <tr>\n",
       "      <th>3</th>\n",
       "      <td>1447066.0</td>\n",
       "      <td>979.9</td>\n",
       "      <td>131.7</td>\n",
       "      <td>801.0</td>\n",
       "      <td>...</td>\n",
       "      <td>1</td>\n",
       "    </tr>\n",
       "    <tr>\n",
       "      <th>4</th>\n",
       "      <td>1447067.0</td>\n",
       "      <td>980.9</td>\n",
       "      <td>132.2</td>\n",
       "      <td>801.0</td>\n",
       "      <td>...</td>\n",
       "      <td>1</td>\n",
       "    </tr>\n",
       "  </tbody>\n",
       "</table>\n",
       "</div>"
      ],
      "text/plain": [
       "        time     xp     yp     ps cr.info  block\n",
       "0  1447063.0  979.2  131.5  801.0     ...      1\n",
       "1  1447064.0  979.2  131.5  801.0     ...      1\n",
       "2  1447065.0  979.4  131.5  801.0     ...      1\n",
       "3  1447066.0  979.9  131.7  801.0     ...      1\n",
       "4  1447067.0  980.9  132.2  801.0     ...      1"
      ]
     },
     "execution_count": 8,
     "metadata": {},
     "output_type": "execute_result"
    }
   ],
   "source": [
    "raw_data.head()"
   ]
  },
  {
   "cell_type": "markdown",
   "metadata": {},
   "source": [
    "# ROI's definitions"
   ]
  },
  {
   "cell_type": "code",
   "execution_count": 9,
   "metadata": {
    "collapsed": true
   },
   "outputs": [],
   "source": [
    "ROIS = {\n",
    "    'P1' : [(-  15,  280), ( 235,   30)],\n",
    "    'P2' : [(-  15,  680), ( 235,  430)],\n",
    "    'P3' : [(-  15, 1080), ( 235,  830)],\n",
    "    'A'  : [(+ 465,  520), ( 715,  270)],\n",
    "    'B'  : [(+ 955,  520), (1205,  270)],\n",
    "    'C'  : [(+1445,  520), (1695,  270)],\n",
    "    'D'  : [(+ 465,  870), ( 715,  630)],\n",
    "    'E'  : [(+ 955,  870), (1205,  630)],\n",
    "    'F'  : [(+1445,  870), (1695,  630)]\n",
    "}    \n",
    "\n",
    "def in_roi(df, roi):\n",
    "    \"\"\"Assume that RECTANGLED roi is defined as list [a, b] where:\n",
    "    a - coordinate of upper left corner (x1, y1)\n",
    "    b - coordinate of lower right corner (x2, y2)\n",
    "    x, y - point in space\n",
    "    \"\"\"\n",
    "    x, y = df.columns\n",
    "    [(x1, y1), (x2, y2)] = roi\n",
    "    return (df[x] > x1) & (df[x] < x2) & (df[y] < y1) & (df[y] > y2)\n"
   ]
  },
  {
   "cell_type": "markdown",
   "metadata": {
    "collapsed": true
   },
   "source": [
    "# toggle rate (TR) \n",
    "based on the number of saccades running either way between the matrix area and the response area (number of toggles) divided by total response time in seconds (i.e., toggles per second). "
   ]
  },
  {
   "cell_type": "code",
   "execution_count": 10,
   "metadata": {
    "collapsed": true
   },
   "outputs": [],
   "source": [
    "sacc_start_in_question_area = pd.concat([in_roi(sacc_data[['sxp', 'syp']], ROIS['P1']),\n",
    "                                         in_roi(sacc_data[['sxp', 'syp']], ROIS['P2']),\n",
    "                                         in_roi(sacc_data[['sxp', 'syp']], ROIS['P3'])], axis=1).any(axis = 1)\n",
    "\n",
    "sacc_ends_in_matrix_area = pd.concat([in_roi(sacc_data[['exp', 'eyp']], ROIS['A']),\n",
    "                                      in_roi(sacc_data[['exp', 'eyp']], ROIS['B']),\n",
    "                                      in_roi(sacc_data[['exp', 'eyp']], ROIS['C']),\n",
    "                                      in_roi(sacc_data[['exp', 'eyp']], ROIS['D']),\n",
    "                                      in_roi(sacc_data[['exp', 'eyp']], ROIS['E']),\n",
    "                                      in_roi(sacc_data[['exp', 'eyp']], ROIS['F'])], axis=1).any(axis = 1)\n",
    "\n",
    "sacc_starts_in_question_area_and_ends_in_matrix_area = pd.concat([sacc_start_in_question_area, sacc_ends_in_matrix_area], axis = 1).all(axis = 1)"
   ]
  },
  {
   "cell_type": "code",
   "execution_count": 11,
   "metadata": {
    "collapsed": true
   },
   "outputs": [],
   "source": [
    "sacc_start_in_matrix_area = pd.concat([in_roi(sacc_data[['sxp', 'syp']], ROIS['A']),\n",
    "                                       in_roi(sacc_data[['sxp', 'syp']], ROIS['B']),\n",
    "                                       in_roi(sacc_data[['sxp', 'syp']], ROIS['C']),\n",
    "                                       in_roi(sacc_data[['sxp', 'syp']], ROIS['D']),\n",
    "                                       in_roi(sacc_data[['sxp', 'syp']], ROIS['E']),\n",
    "                                       in_roi(sacc_data[['sxp', 'syp']], ROIS['F'])], axis=1).any(axis = 1)\n",
    "\n",
    "sacc_ends_in_question_area = pd.concat([in_roi(sacc_data[['exp', 'eyp']], ROIS['P1']),\n",
    "                                        in_roi(sacc_data[['exp', 'eyp']], ROIS['P1']),\n",
    "                                        in_roi(sacc_data[['exp', 'eyp']], ROIS['P1'])], axis=1).any(axis = 1)\n",
    "\n",
    "sacc_starts_in_matrix_area_and_ends_in_question_area = pd.concat([sacc_start_in_matrix_area, sacc_ends_in_question_area], axis = 1).all(axis = 1)\n"
   ]
  },
  {
   "cell_type": "code",
   "execution_count": 12,
   "metadata": {},
   "outputs": [
    {
     "data": {
      "text/html": [
       "<div>\n",
       "<table border=\"1\" class=\"dataframe\">\n",
       "  <thead>\n",
       "    <tr style=\"text-align: right;\">\n",
       "      <th></th>\n",
       "      <th>stime</th>\n",
       "      <th>etime</th>\n",
       "      <th>dur</th>\n",
       "      <th>sxp</th>\n",
       "      <th>syp</th>\n",
       "      <th>exp</th>\n",
       "      <th>eyp</th>\n",
       "      <th>ampl</th>\n",
       "      <th>pv</th>\n",
       "      <th>eye</th>\n",
       "      <th>block</th>\n",
       "    </tr>\n",
       "  </thead>\n",
       "  <tbody>\n",
       "    <tr>\n",
       "      <th>1</th>\n",
       "      <td>1447295</td>\n",
       "      <td>1447378</td>\n",
       "      <td>84</td>\n",
       "      <td>1085.3</td>\n",
       "      <td>370.3</td>\n",
       "      <td>75.2</td>\n",
       "      <td>223.4</td>\n",
       "      <td>31.08</td>\n",
       "      <td>751</td>\n",
       "      <td>R</td>\n",
       "      <td>1</td>\n",
       "    </tr>\n",
       "    <tr>\n",
       "      <th>17</th>\n",
       "      <td>1451645</td>\n",
       "      <td>1451701</td>\n",
       "      <td>57</td>\n",
       "      <td>28.5</td>\n",
       "      <td>74.9</td>\n",
       "      <td>578.5</td>\n",
       "      <td>316.1</td>\n",
       "      <td>17.75</td>\n",
       "      <td>909</td>\n",
       "      <td>R</td>\n",
       "      <td>1</td>\n",
       "    </tr>\n",
       "    <tr>\n",
       "      <th>18</th>\n",
       "      <td>1452124</td>\n",
       "      <td>1452185</td>\n",
       "      <td>62</td>\n",
       "      <td>592.0</td>\n",
       "      <td>330.3</td>\n",
       "      <td>58.3</td>\n",
       "      <td>51.4</td>\n",
       "      <td>18.04</td>\n",
       "      <td>604</td>\n",
       "      <td>R</td>\n",
       "      <td>1</td>\n",
       "    </tr>\n",
       "    <tr>\n",
       "      <th>84</th>\n",
       "      <td>1472475</td>\n",
       "      <td>1472534</td>\n",
       "      <td>60</td>\n",
       "      <td>72.6</td>\n",
       "      <td>487.9</td>\n",
       "      <td>566.8</td>\n",
       "      <td>322.1</td>\n",
       "      <td>15.74</td>\n",
       "      <td>695</td>\n",
       "      <td>R</td>\n",
       "      <td>1</td>\n",
       "    </tr>\n",
       "    <tr>\n",
       "      <th>89</th>\n",
       "      <td>1473680</td>\n",
       "      <td>1473735</td>\n",
       "      <td>56</td>\n",
       "      <td>125.2</td>\n",
       "      <td>181.9</td>\n",
       "      <td>572.6</td>\n",
       "      <td>292.9</td>\n",
       "      <td>13.91</td>\n",
       "      <td>738</td>\n",
       "      <td>R</td>\n",
       "      <td>1</td>\n",
       "    </tr>\n",
       "  </tbody>\n",
       "</table>\n",
       "</div>"
      ],
      "text/plain": [
       "      stime    etime  dur     sxp    syp    exp    eyp   ampl   pv eye  block\n",
       "1   1447295  1447378   84  1085.3  370.3   75.2  223.4  31.08  751   R      1\n",
       "17  1451645  1451701   57    28.5   74.9  578.5  316.1  17.75  909   R      1\n",
       "18  1452124  1452185   62   592.0  330.3   58.3   51.4  18.04  604   R      1\n",
       "84  1472475  1472534   60    72.6  487.9  566.8  322.1  15.74  695   R      1\n",
       "89  1473680  1473735   56   125.2  181.9  572.6  292.9  13.91  738   R      1"
      ]
     },
     "execution_count": 12,
     "metadata": {},
     "output_type": "execute_result"
    }
   ],
   "source": [
    "toggled_sacc = pd.concat([sacc_starts_in_matrix_area_and_ends_in_question_area, sacc_starts_in_question_area_and_ends_in_matrix_area], axis = 1).any(axis = 1)\n",
    "toggled_sacc = sacc_data[toggled_sacc]\n",
    "toggled_sacc.head()"
   ]
  },
  {
   "cell_type": "code",
   "execution_count": 13,
   "metadata": {
    "scrolled": true
   },
   "outputs": [
    {
     "data": {
      "text/html": [
       "<div>\n",
       "<table border=\"1\" class=\"dataframe\">\n",
       "  <thead>\n",
       "    <tr style=\"text-align: right;\">\n",
       "      <th></th>\n",
       "      <th>session_id</th>\n",
       "      <th>start_time</th>\n",
       "      <th>end_time</th>\n",
       "      <th>choosed_option</th>\n",
       "      <th>ans_accept</th>\n",
       "      <th>rt</th>\n",
       "      <th>corr</th>\n",
       "      <th>time</th>\n",
       "      <th>rel</th>\n",
       "      <th>feedb</th>\n",
       "      <th>wait</th>\n",
       "      <th>exp</th>\n",
       "      <th>type</th>\n",
       "      <th>answers</th>\n",
       "      <th>no_toggles</th>\n",
       "    </tr>\n",
       "  </thead>\n",
       "  <tbody>\n",
       "    <tr>\n",
       "      <th>40</th>\n",
       "      <td>1</td>\n",
       "      <td>3500.046150</td>\n",
       "      <td>3592.215688</td>\n",
       "      <td>D1</td>\n",
       "      <td>True</td>\n",
       "      <td>92.160427</td>\n",
       "      <td>True</td>\n",
       "      <td>120</td>\n",
       "      <td>3</td>\n",
       "      <td>0</td>\n",
       "      <td>5</td>\n",
       "      <td>experiment</td>\n",
       "      <td>trial</td>\n",
       "      <td>[1, 2, 2, 3, 3, 6]</td>\n",
       "      <td>18</td>\n",
       "    </tr>\n",
       "    <tr>\n",
       "      <th>41</th>\n",
       "      <td>1</td>\n",
       "      <td>3592.982379</td>\n",
       "      <td>3658.634434</td>\n",
       "      <td>D1</td>\n",
       "      <td>True</td>\n",
       "      <td>65.647010</td>\n",
       "      <td>True</td>\n",
       "      <td>120</td>\n",
       "      <td>4</td>\n",
       "      <td>0</td>\n",
       "      <td>5</td>\n",
       "      <td>experiment</td>\n",
       "      <td>trial</td>\n",
       "      <td>[1, 2, 2, 3, 3, 6]</td>\n",
       "      <td>16</td>\n",
       "    </tr>\n",
       "    <tr>\n",
       "      <th>42</th>\n",
       "      <td>1</td>\n",
       "      <td>3659.384465</td>\n",
       "      <td>3691.702099</td>\n",
       "      <td>D1</td>\n",
       "      <td>True</td>\n",
       "      <td>32.303809</td>\n",
       "      <td>True</td>\n",
       "      <td>120</td>\n",
       "      <td>3</td>\n",
       "      <td>0</td>\n",
       "      <td>5</td>\n",
       "      <td>experiment</td>\n",
       "      <td>trial</td>\n",
       "      <td>[1, 4, 4, 5, 5, 6]</td>\n",
       "      <td>10</td>\n",
       "    </tr>\n",
       "    <tr>\n",
       "      <th>43</th>\n",
       "      <td>1</td>\n",
       "      <td>3692.468843</td>\n",
       "      <td>3712.252780</td>\n",
       "      <td>D1</td>\n",
       "      <td>True</td>\n",
       "      <td>19.777563</td>\n",
       "      <td>True</td>\n",
       "      <td>120</td>\n",
       "      <td>3</td>\n",
       "      <td>0</td>\n",
       "      <td>5</td>\n",
       "      <td>experiment</td>\n",
       "      <td>trial</td>\n",
       "      <td>[1, 4, 4, 5, 5, 6]</td>\n",
       "      <td>4</td>\n",
       "    </tr>\n",
       "    <tr>\n",
       "      <th>44</th>\n",
       "      <td>1</td>\n",
       "      <td>3713.036147</td>\n",
       "      <td>3744.937131</td>\n",
       "      <td>D1</td>\n",
       "      <td>True</td>\n",
       "      <td>31.892771</td>\n",
       "      <td>True</td>\n",
       "      <td>120</td>\n",
       "      <td>4</td>\n",
       "      <td>0</td>\n",
       "      <td>5</td>\n",
       "      <td>experiment</td>\n",
       "      <td>trial</td>\n",
       "      <td>[1, 3, 3, 4, 4, 6]</td>\n",
       "      <td>5</td>\n",
       "    </tr>\n",
       "  </tbody>\n",
       "</table>\n",
       "</div>"
      ],
      "text/plain": [
       "    session_id   start_time     end_time choosed_option ans_accept         rt  \\\n",
       "40           1  3500.046150  3592.215688             D1       True  92.160427   \n",
       "41           1  3592.982379  3658.634434             D1       True  65.647010   \n",
       "42           1  3659.384465  3691.702099             D1       True  32.303809   \n",
       "43           1  3692.468843  3712.252780             D1       True  19.777563   \n",
       "44           1  3713.036147  3744.937131             D1       True  31.892771   \n",
       "\n",
       "    corr  time  rel  feedb  wait         exp   type             answers  \\\n",
       "40  True   120    3      0     5  experiment  trial  [1, 2, 2, 3, 3, 6]   \n",
       "41  True   120    4      0     5  experiment  trial  [1, 2, 2, 3, 3, 6]   \n",
       "42  True   120    3      0     5  experiment  trial  [1, 4, 4, 5, 5, 6]   \n",
       "43  True   120    3      0     5  experiment  trial  [1, 4, 4, 5, 5, 6]   \n",
       "44  True   120    4      0     5  experiment  trial  [1, 3, 3, 4, 4, 6]   \n",
       "\n",
       "    no_toggles  \n",
       "40          18  \n",
       "41          16  \n",
       "42          10  \n",
       "43           4  \n",
       "44           5  "
      ]
     },
     "execution_count": 13,
     "metadata": {},
     "output_type": "execute_result"
    }
   ],
   "source": [
    "ts = toggled_sacc.groupby('block').count()['stime']\n",
    "missing_blocks = set(range(1, 46)) - set(ts.index)\n",
    "for i in list(missing_blocks):\n",
    "    ts.ix[i] = 0 \n",
    "ts.sort_index(inplace=True)\n",
    "ts = ts.reset_index()\n",
    "beh_data['no_toggles'] = ts['stime']\n",
    "beh_data.tail()"
   ]
  },
  {
   "cell_type": "code",
   "execution_count": 15,
   "metadata": {},
   "outputs": [
    {
     "data": {
      "text/plain": [
       "answers\n",
       "[1, 2, 2, 3, 3, 6]    0.184221\n",
       "[1, 2, 3, 4, 5, 6]    0.447648\n",
       "[1, 3, 3, 4, 4, 6]    0.171075\n",
       "[1, 4, 4, 5, 5, 6]    0.290758\n",
       "dtype: float64"
      ]
     },
     "execution_count": 15,
     "metadata": {},
     "output_type": "execute_result"
    }
   ],
   "source": [
    "toggles = beh_data.groupby('answers').sum()\n",
    "w = (toggles['no_toggles'] / toggles['rt'])\n",
    "w"
   ]
  },
  {
   "cell_type": "code",
   "execution_count": 16,
   "metadata": {},
   "outputs": [
    {
     "data": {
      "text/plain": [
       "answers\n",
       "[1, 2, 2, 3, 3, 6]    183\n",
       "[1, 2, 3, 4, 5, 6]     94\n",
       "[1, 3, 3, 4, 4, 6]    132\n",
       "[1, 4, 4, 5, 5, 6]    130\n",
       "Name: no_toggles, dtype: int64"
      ]
     },
     "execution_count": 16,
     "metadata": {},
     "output_type": "execute_result"
    }
   ],
   "source": [
    "toggles['no_toggles']"
   ]
  },
  {
   "cell_type": "markdown",
   "metadata": {},
   "source": [
    "# relative time on matrix (RTM) \n",
    "summed duration of all fixations within the matrix area (time on matrix) divided by total response time. "
   ]
  },
  {
   "cell_type": "code",
   "execution_count": 17,
   "metadata": {
    "collapsed": true
   },
   "outputs": [],
   "source": [
    "fix_in_matrix_area = pd.concat([in_roi(fix_data[['axp', 'ayp']], ROIS['P1']),\n",
    "                                in_roi(fix_data[['axp', 'ayp']], ROIS['P2']),\n",
    "                                in_roi(fix_data[['axp', 'ayp']], ROIS['P2'])], axis = 1).any(axis = 1)"
   ]
  },
  {
   "cell_type": "code",
   "execution_count": 18,
   "metadata": {},
   "outputs": [
    {
     "data": {
      "text/plain": [
       "answers\n",
       "[1, 2, 2, 3, 3, 6]    0.326402\n",
       "[1, 2, 3, 4, 5, 6]    0.501946\n",
       "[1, 3, 3, 4, 4, 6]    0.260066\n",
       "[1, 4, 4, 5, 5, 6]    0.422429\n",
       "dtype: float64"
      ]
     },
     "execution_count": 18,
     "metadata": {},
     "output_type": "execute_result"
    }
   ],
   "source": [
    "fix_in_matrix_area_on_block_dur = fix_data[fix_in_matrix_area].groupby('block').sum()['dur']\n",
    "\n",
    "missing_blocks = set(range(1, 46)) - set(fix_in_matrix_area_on_block_dur.index)\n",
    "for i in list(missing_blocks):\n",
    "     fix_in_matrix_area_on_block_dur.ix[i] = 0 \n",
    "fix_in_matrix_area_on_block_dur.sort_index(inplace=True)\n",
    "fix_in_matrix_area_on_block_dur = fix_in_matrix_area_on_block_dur.reset_index()\n",
    "\n",
    "beh_data['fix_in_matrix_area_dur'] = fix_in_matrix_area_on_block_dur['dur']\n",
    "\n",
    "gb = beh_data.groupby('answers').sum()\n",
    "w = (gb['fix_in_matrix_area_dur'] / (gb['rt'] * 1000.0))\n",
    "w"
   ]
  },
  {
   "cell_type": "markdown",
   "metadata": {},
   "source": [
    "# 3. relative first response fixation (RFRF) \n",
    "timestamp of the first fixation within the response area (time before first response fixation) divided by total response time."
   ]
  },
  {
   "cell_type": "code",
   "execution_count": 19,
   "metadata": {},
   "outputs": [
    {
     "data": {
      "text/html": [
       "<div>\n",
       "<table border=\"1\" class=\"dataframe\">\n",
       "  <thead>\n",
       "    <tr style=\"text-align: right;\">\n",
       "      <th></th>\n",
       "      <th>stime</th>\n",
       "      <th>etime</th>\n",
       "      <th>dur</th>\n",
       "      <th>axp</th>\n",
       "      <th>ayp</th>\n",
       "      <th>aps</th>\n",
       "      <th>eye</th>\n",
       "      <th>block</th>\n",
       "    </tr>\n",
       "  </thead>\n",
       "  <tbody>\n",
       "    <tr>\n",
       "      <th>0</th>\n",
       "      <td>1447070</td>\n",
       "      <td>1447093</td>\n",
       "      <td>24</td>\n",
       "      <td>980.6</td>\n",
       "      <td>133.9</td>\n",
       "      <td>801</td>\n",
       "      <td>R</td>\n",
       "      <td>1</td>\n",
       "    </tr>\n",
       "    <tr>\n",
       "      <th>1</th>\n",
       "      <td>1447172</td>\n",
       "      <td>1447294</td>\n",
       "      <td>123</td>\n",
       "      <td>1082.1</td>\n",
       "      <td>371.4</td>\n",
       "      <td>825</td>\n",
       "      <td>R</td>\n",
       "      <td>1</td>\n",
       "    </tr>\n",
       "    <tr>\n",
       "      <th>2</th>\n",
       "      <td>1447379</td>\n",
       "      <td>1447510</td>\n",
       "      <td>132</td>\n",
       "      <td>82.8</td>\n",
       "      <td>229.8</td>\n",
       "      <td>867</td>\n",
       "      <td>R</td>\n",
       "      <td>1</td>\n",
       "    </tr>\n",
       "    <tr>\n",
       "      <th>3</th>\n",
       "      <td>1447562</td>\n",
       "      <td>1447878</td>\n",
       "      <td>317</td>\n",
       "      <td>35.1</td>\n",
       "      <td>20.1</td>\n",
       "      <td>871</td>\n",
       "      <td>R</td>\n",
       "      <td>1</td>\n",
       "    </tr>\n",
       "    <tr>\n",
       "      <th>4</th>\n",
       "      <td>1447940</td>\n",
       "      <td>1448077</td>\n",
       "      <td>138</td>\n",
       "      <td>568.7</td>\n",
       "      <td>264.4</td>\n",
       "      <td>910</td>\n",
       "      <td>R</td>\n",
       "      <td>1</td>\n",
       "    </tr>\n",
       "  </tbody>\n",
       "</table>\n",
       "</div>"
      ],
      "text/plain": [
       "     stime    etime  dur     axp    ayp  aps eye  block\n",
       "0  1447070  1447093   24   980.6  133.9  801   R      1\n",
       "1  1447172  1447294  123  1082.1  371.4  825   R      1\n",
       "2  1447379  1447510  132    82.8  229.8  867   R      1\n",
       "3  1447562  1447878  317    35.1   20.1  871   R      1\n",
       "4  1447940  1448077  138   568.7  264.4  910   R      1"
      ]
     },
     "execution_count": 19,
     "metadata": {},
     "output_type": "execute_result"
    }
   ],
   "source": [
    "fix_data.head()"
   ]
  },
  {
   "cell_type": "code",
   "execution_count": 20,
   "metadata": {},
   "outputs": [
    {
     "data": {
      "text/html": [
       "<div>\n",
       "<table border=\"1\" class=\"dataframe\">\n",
       "  <thead>\n",
       "    <tr style=\"text-align: right;\">\n",
       "      <th></th>\n",
       "      <th>time</th>\n",
       "      <th>xp</th>\n",
       "      <th>yp</th>\n",
       "      <th>ps</th>\n",
       "      <th>cr.info</th>\n",
       "      <th>block</th>\n",
       "    </tr>\n",
       "  </thead>\n",
       "  <tbody>\n",
       "    <tr>\n",
       "      <th>0</th>\n",
       "      <td>1447063.0</td>\n",
       "      <td>979.2</td>\n",
       "      <td>131.5</td>\n",
       "      <td>801.0</td>\n",
       "      <td>...</td>\n",
       "      <td>1</td>\n",
       "    </tr>\n",
       "    <tr>\n",
       "      <th>1</th>\n",
       "      <td>1447064.0</td>\n",
       "      <td>979.2</td>\n",
       "      <td>131.5</td>\n",
       "      <td>801.0</td>\n",
       "      <td>...</td>\n",
       "      <td>1</td>\n",
       "    </tr>\n",
       "    <tr>\n",
       "      <th>2</th>\n",
       "      <td>1447065.0</td>\n",
       "      <td>979.4</td>\n",
       "      <td>131.5</td>\n",
       "      <td>801.0</td>\n",
       "      <td>...</td>\n",
       "      <td>1</td>\n",
       "    </tr>\n",
       "    <tr>\n",
       "      <th>3</th>\n",
       "      <td>1447066.0</td>\n",
       "      <td>979.9</td>\n",
       "      <td>131.7</td>\n",
       "      <td>801.0</td>\n",
       "      <td>...</td>\n",
       "      <td>1</td>\n",
       "    </tr>\n",
       "    <tr>\n",
       "      <th>4</th>\n",
       "      <td>1447067.0</td>\n",
       "      <td>980.9</td>\n",
       "      <td>132.2</td>\n",
       "      <td>801.0</td>\n",
       "      <td>...</td>\n",
       "      <td>1</td>\n",
       "    </tr>\n",
       "  </tbody>\n",
       "</table>\n",
       "</div>"
      ],
      "text/plain": [
       "        time     xp     yp     ps cr.info  block\n",
       "0  1447063.0  979.2  131.5  801.0     ...      1\n",
       "1  1447064.0  979.2  131.5  801.0     ...      1\n",
       "2  1447065.0  979.4  131.5  801.0     ...      1\n",
       "3  1447066.0  979.9  131.7  801.0     ...      1\n",
       "4  1447067.0  980.9  132.2  801.0     ...      1"
      ]
     },
     "execution_count": 20,
     "metadata": {},
     "output_type": "execute_result"
    }
   ],
   "source": [
    "raw_data.head()"
   ]
  },
  {
   "cell_type": "code",
   "execution_count": 21,
   "metadata": {
    "collapsed": true
   },
   "outputs": [],
   "source": [
    "fix_in_problem_area = pd.concat([in_roi(fix_data[['axp', 'ayp']], ROIS['P1']),\n",
    "                                 in_roi(fix_data[['axp', 'ayp']], ROIS['P2']),\n",
    "                                 in_roi(fix_data[['axp', 'ayp']], ROIS['P3'])], axis=1).any(axis = 1)\n",
    "first_fix_in_problem_area = np.where(fix_in_problem_area == True)[0][0]\n",
    "fix_data_for_RF = fix_data[first_fix_in_problem_area:]"
   ]
  },
  {
   "cell_type": "code",
   "execution_count": 22,
   "metadata": {
    "collapsed": true
   },
   "outputs": [],
   "source": [
    "fix_in_matrix_area = pd.concat([in_roi(fix_data_for_RF[['axp', 'ayp']], ROIS['A']),\n",
    "                                in_roi(fix_data_for_RF[['axp', 'ayp']], ROIS['B']),\n",
    "                                in_roi(fix_data_for_RF[['axp', 'ayp']], ROIS['C']),\n",
    "                                in_roi(fix_data_for_RF[['axp', 'ayp']], ROIS['D']),\n",
    "                                in_roi(fix_data_for_RF[['axp', 'ayp']], ROIS['E']),\n",
    "                                in_roi(fix_data_for_RF[['axp', 'ayp']], ROIS['F'])], axis = 1).any(axis = 1)\n",
    "beh_data['time_of_first_fix_on_matrix_area'] = (fix_data_for_RF[fix_in_matrix_area].groupby('block').first()['stime'] - raw_data.groupby('block').first()['time']).fillna(0).reset_index()[0]"
   ]
  },
  {
   "cell_type": "code",
   "execution_count": 29,
   "metadata": {},
   "outputs": [
    {
     "data": {
      "text/plain": [
       "answers\n",
       "[1, 2, 2, 3, 3, 6]    0.053509\n",
       "[1, 2, 3, 4, 5, 6]    0.008634\n",
       "[1, 3, 3, 4, 4, 6]    0.045282\n",
       "[1, 4, 4, 5, 5, 6]    0.117565\n",
       "dtype: float64"
      ]
     },
     "execution_count": 29,
     "metadata": {},
     "output_type": "execute_result"
    },
    {
     "name": "stdout",
     "output_type": "stream",
     "text": [
      "\n"
     ]
    }
   ],
   "source": [
    "gb = beh_data.groupby('answers').sum() \n",
    "w = (gb['time_of_first_fix_on_matrix_area'] / (gb['rt'] * 1000.0))\n",
    "w"
   ]
  },
  {
   "cell_type": "markdown",
   "metadata": {},
   "source": [
    "# number of responses visited (RV) \n",
    "counted all response alternatives that were fixated at least once during the response time (following Bethell-Fox et al., 1984)\n",
    "\n",
    "Modyfikacja! Teraz: liczba fiksacji + łączny czas trwania fiksacji na każdej z odpowiedzi. [time spent on each response alternative]"
   ]
  },
  {
   "cell_type": "code",
   "execution_count": 53,
   "metadata": {},
   "outputs": [
    {
     "name": "stdout",
     "output_type": "stream",
     "text": [
      "[1, 5, 5, 6, 4, 4] T [1, 5, 5, 6, 4, 4]\n",
      "[3, 4, 6, 4, 1, 3] T [3, 4, 6, 4, 1, 3]\n",
      "[6, 3, 4, 1, 4, 3] T [6, 3, 4, 1, 4, 3]\n",
      "[3, 1, 2, 3, 6, 2] E [3, 1, 2, 3, 6, 2]\n",
      "[6, 1, 5, 4, 4, 5] M [6, 1, 5, 4, 4, 5]\n",
      "[3, 6, 3, 1, 4, 4] M [3, 6, 3, 1, 4, 4]\n",
      "[3, 3, 4, 4, 1, 6] H [3, 3, 4, 4, 1, 6]\n",
      "[6, 3, 2, 2, 3, 1] E [6, 3, 2, 2, 3, 1]\n",
      "[6, 1, 3, 3, 4, 4] M [6, 1, 3, 3, 4, 4]\n",
      "[4, 4, 5, 1, 6, 5] M [4, 4, 5, 1, 6, 5]\n",
      "[3, 1, 2, 3, 2, 6] H [3, 1, 2, 3, 2, 6]\n",
      "[3, 1, 3, 6, 4, 4] M [3, 1, 3, 6, 4, 4]\n",
      "[3, 1, 6, 2, 2, 3] E [3, 1, 6, 2, 2, 3]\n",
      "[2, 3, 2, 3, 1, 6] H [2, 3, 2, 3, 1, 6]\n",
      "[3, 1, 6, 3, 2, 2] M [3, 1, 6, 3, 2, 2]\n",
      "[6, 2, 1, 3, 3, 2] H [6, 2, 1, 3, 3, 2]\n",
      "[4, 5, 5, 6, 1, 4] H [4, 5, 5, 6, 1, 4]\n",
      "[4, 5, 6, 5, 4, 1] H [4, 5, 6, 5, 4, 1]\n",
      "[1, 5, 4, 6, 4, 5] H [1, 5, 4, 6, 4, 5]\n",
      "[2, 6, 3, 3, 1, 2] E [2, 6, 3, 3, 1, 2]\n",
      "[4, 3, 1, 4, 6, 3] E [4, 3, 1, 4, 6, 3]\n",
      "[6, 4, 3, 4, 3, 1] E [6, 4, 3, 4, 3, 1]\n",
      "[4, 6, 4, 1, 3, 3] H [4, 6, 4, 1, 3, 3]\n",
      "[5, 6, 4, 5, 1, 4] M [5, 6, 4, 5, 1, 4]\n",
      "[2, 3, 2, 3, 1, 6] M [2, 3, 2, 3, 1, 6]\n",
      "[1, 4, 4, 6, 3, 3] M [1, 4, 4, 6, 3, 3]\n",
      "[6, 2, 2, 3, 1, 3] E [6, 2, 2, 3, 1, 3]\n",
      "[2, 1, 6, 3, 2, 3] H [2, 1, 6, 3, 2, 3]\n",
      "[2, 2, 3, 1, 3, 6] M [2, 2, 3, 1, 3, 6]\n",
      "[4, 3, 4, 1, 6, 3] H [4, 3, 4, 1, 6, 3]\n",
      "[6, 4, 1, 4, 3, 3] H [6, 4, 1, 4, 3, 3]\n",
      "[1, 6, 5, 4, 4, 5] H [1, 6, 5, 4, 4, 5]\n",
      "[6, 5, 4, 4, 1, 5] M [6, 5, 4, 4, 1, 5]\n",
      "[1, 4, 5, 5, 6, 4] M [1, 4, 5, 5, 6, 4]\n",
      "[4, 5, 6, 4, 1, 5] E [4, 5, 6, 4, 1, 5]\n",
      "[6, 3, 3, 4, 1, 4] E [6, 3, 3, 4, 1, 4]\n",
      "[4, 6, 4, 1, 5, 5] E [4, 6, 4, 1, 5, 5]\n",
      "[6, 1, 3, 3, 2, 2] E [6, 1, 3, 3, 2, 2]\n",
      "[2, 3, 2, 1, 6, 3] M [2, 3, 2, 1, 6, 3]\n",
      "[4, 5, 5, 1, 6, 4] E [4, 5, 5, 1, 6, 4]\n",
      "[5, 4, 4, 1, 6, 5] H [5, 4, 4, 1, 6, 5]\n",
      "[4, 3, 4, 1, 3, 6] H [4, 3, 4, 1, 3, 6]\n",
      "[['1_T', '5_T', '5_T', '6_T', '4_T', '4_T'], ['3_T', '4_T', '6_T', '4_T', '1_T', '3_T'], ['6_T', '3_T', '4_T', '1_T', '4_T', '3_T'], ['3_E', '1_E', '2_E', '3_E', '6_E', '2_E'], ['6_M', '1_M', '5_M', '4_M', '4_M', '5_M'], ['3_M', '6_M', '3_M', '1_M', '4_M', '4_M'], ['3_H', '3_H', '4_H', '4_H', '1_H', '6_H'], ['6_E', '3_E', '2_E', '2_E', '3_E', '1_E'], ['6_M', '1_M', '3_M', '3_M', '4_M', '4_M'], ['4_M', '4_M', '5_M', '1_M', '6_M', '5_M'], ['3_H', '1_H', '2_H', '3_H', '2_H', '6_H'], ['3_M', '1_M', '3_M', '6_M', '4_M', '4_M'], ['3_E', '1_E', '6_E', '2_E', '2_E', '3_E'], ['2_H', '3_H', '2_H', '3_H', '1_H', '6_H'], ['3_M', '1_M', '6_M', '3_M', '2_M', '2_M'], ['6_H', '2_H', '1_H', '3_H', '3_H', '2_H'], ['4_H', '5_H', '5_H', '6_H', '1_H', '4_H'], ['4_H', '5_H', '6_H', '5_H', '4_H', '1_H'], ['1_H', '5_H', '4_H', '6_H', '4_H', '5_H'], ['2_E', '6_E', '3_E', '3_E', '1_E', '2_E'], ['4_E', '3_E', '1_E', '4_E', '6_E', '3_E'], ['6_E', '4_E', '3_E', '4_E', '3_E', '1_E'], ['4_H', '6_H', '4_H', '1_H', '3_H', '3_H'], ['5_M', '6_M', '4_M', '5_M', '1_M', '4_M'], ['2_M', '3_M', '2_M', '3_M', '1_M', '6_M'], ['1_M', '4_M', '4_M', '6_M', '3_M', '3_M'], ['6_E', '2_E', '2_E', '3_E', '1_E', '3_E'], ['2_H', '1_H', '6_H', '3_H', '2_H', '3_H'], ['2_M', '2_M', '3_M', '1_M', '3_M', '6_M'], ['4_H', '3_H', '4_H', '1_H', '6_H', '3_H'], ['6_H', '4_H', '1_H', '4_H', '3_H', '3_H'], ['1_H', '6_H', '5_H', '4_H', '4_H', '5_H'], ['6_M', '5_M', '4_M', '4_M', '1_M', '5_M'], ['1_M', '4_M', '5_M', '5_M', '6_M', '4_M'], ['4_E', '5_E', '6_E', '4_E', '1_E', '5_E'], ['6_E', '3_E', '3_E', '4_E', '1_E', '4_E'], ['4_E', '6_E', '4_E', '1_E', '5_E', '5_E'], ['6_E', '1_E', '3_E', '3_E', '2_E', '2_E'], ['2_M', '3_M', '2_M', '1_M', '6_M', '3_M'], ['4_E', '5_E', '5_E', '1_E', '6_E', '4_E'], ['5_H', '4_H', '4_H', '1_H', '6_H', '5_H'], ['4_H', '3_H', '4_H', '1_H', '3_H', '6_H']]\n"
     ]
    }
   ],
   "source": [
    "problems = yaml_data['list_of_blocks'][1]['experiment_elements'][1:]\n",
    "problems += yaml_data['list_of_blocks'][2]['experiment_elements'][1:]\n",
    "names = list()\n",
    "for problem in problems:\n",
    "    tmp = []\n",
    "    for matrix in problem['matrix_info']:\n",
    "        tmp.append(matrix['name'])\n",
    "    names.append(tmp)\n",
    "    \n",
    "names = [x[3:] for x in names]\n",
    "new_names = []\n",
    "res = []\n",
    "for x in names:\n",
    "    new_names.append([int(w[-1]) for w in x])\n",
    "for name, lab in zip(new_names, beh_data['answers'].map({\n",
    "            '[1, 2, 3, 4, 5, 6]': \"T\", \n",
    "            '[1, 2, 2, 3, 3, 6]': 'H', \n",
    "            '[1, 3, 3, 4, 4, 6]': 'M',\n",
    "            '[1, 4, 4, 5, 5, 6]': 'E'})):\n",
    "    print name, lab,\n",
    "#     one_pos = np.where(np.array(name) == 1)[0][0]\n",
    "# #     two_pos = np.where(np.array(name) == 2)[0][0]\n",
    "# #     three_pos = np.where(np.array(name) == 3)[0][0]\n",
    "# #     four_pos = np.where(np.array(name) == 4)[0][0]\n",
    "# #     five_pos = np.where(np.array(name) == 5)[0][0]\n",
    "#     six_pos = np.where(np.array(name) == 6)[0][0]\n",
    "#     name[one_pos] = '1_' + str(lab)\n",
    "# #     name[two_pos] = '2_' + str(lab)\n",
    "# #     name[three_pos] = '3_' + str(lab)\n",
    "# #     name[four_pos] = '4_' + str(lab)\n",
    "# #     name[five_pos] = '5_' + str(lab)\n",
    "#     name[six_pos] = '6_' + str(lab)\n",
    "    new_name = []\n",
    "    for n in name:\n",
    "        new_name.append(str(n) + '_' + str(lab))\n",
    "    res.append(new_name)\n",
    "    print name\n",
    "    \n",
    "    \n",
    "new_names = res\n",
    "# problems[0]['matrix_info']"
   ]
  },
  {
   "cell_type": "code",
   "execution_count": 54,
   "metadata": {
    "collapsed": true
   },
   "outputs": [],
   "source": [
    "fix_in_A = fix_data[in_roi(fix_data[['axp', 'ayp']], ROIS['A'])].groupby('block').sum()['dur']\n",
    "fix_in_B = fix_data[in_roi(fix_data[['axp', 'ayp']], ROIS['B'])].groupby('block').sum()['dur']\n",
    "fix_in_C = fix_data[in_roi(fix_data[['axp', 'ayp']], ROIS['C'])].groupby('block').sum()['dur']\n",
    "fix_in_D = fix_data[in_roi(fix_data[['axp', 'ayp']], ROIS['D'])].groupby('block').sum()['dur']\n",
    "fix_in_E = fix_data[in_roi(fix_data[['axp', 'ayp']], ROIS['E'])].groupby('block').sum()['dur']\n",
    "fix_in_F = fix_data[in_roi(fix_data[['axp', 'ayp']], ROIS['F'])].groupby('block').sum()['dur']"
   ]
  },
  {
   "cell_type": "code",
   "execution_count": 55,
   "metadata": {
    "collapsed": true
   },
   "outputs": [],
   "source": [
    "missing_blocks = set(range(1, 46)) - set(fix_in_A.index)\n",
    "for i in list(missing_blocks):\n",
    "     fix_in_A.ix[i] = 0 \n",
    "fix_in_A.sort_index(inplace=True)\n",
    "fix_in_A = fix_in_A.reset_index()\n",
    "\n",
    "missing_blocks = set(range(1, 46)) - set(fix_in_B.index)\n",
    "for i in list(missing_blocks):\n",
    "     fix_in_B.ix[i] = 0 \n",
    "fix_in_B.sort_index(inplace=True)\n",
    "fix_in_B = fix_in_B.reset_index()\n",
    "\n",
    "missing_blocks = set(range(1, 46)) - set(fix_in_C.index)\n",
    "for i in list(missing_blocks):\n",
    "     fix_in_C.ix[i] = 0 \n",
    "fix_in_C.sort_index(inplace=True)\n",
    "fix_in_C = fix_in_C.reset_index()\n",
    "\n",
    "missing_blocks = set(range(1, 46)) - set(fix_in_D.index)\n",
    "for i in list(missing_blocks):\n",
    "     fix_in_D.ix[i] = 0 \n",
    "fix_in_D.sort_index(inplace=True)\n",
    "fix_in_D = fix_in_D.reset_index()\n",
    "\n",
    "missing_blocks = set(range(1, 46)) - set(fix_in_E.index)\n",
    "for i in list(missing_blocks):\n",
    "     fix_in_E.ix[i] = 0 \n",
    "fix_in_E.sort_index(inplace=True)\n",
    "fix_in_E = fix_in_E.reset_index()\n",
    "\n",
    "missing_blocks = set(range(1, 46)) - set(fix_in_F.index)\n",
    "for i in list(missing_blocks):\n",
    "     fix_in_F.ix[i] = 0 \n",
    "fix_in_F.sort_index(inplace=True)\n",
    "fix_in_F = fix_in_F.reset_index()\n",
    "\n",
    "# print fix_in_A.columns\n",
    "fix_in_A.columns = ['block', 'dur_in_A']\n",
    "fix_in_B.columns = ['blk', 'dur_in_B']\n",
    "fix_in_C.columns = ['blk', 'dur_in_C']\n",
    "fix_in_D.columns = ['blk', 'dur_in_D']\n",
    "fix_in_E.columns = ['blk', 'dur_in_E']\n",
    "fix_in_F.columns = ['blk', 'dur_in_F']\n"
   ]
  },
  {
   "cell_type": "code",
   "execution_count": 56,
   "metadata": {},
   "outputs": [
    {
     "data": {
      "text/html": [
       "<div>\n",
       "<table border=\"1\" class=\"dataframe\">\n",
       "  <thead>\n",
       "    <tr style=\"text-align: right;\">\n",
       "      <th></th>\n",
       "      <th>index</th>\n",
       "      <th>block</th>\n",
       "      <th>dur_in_A</th>\n",
       "      <th>dur_in_B</th>\n",
       "      <th>dur_in_C</th>\n",
       "      <th>dur_in_D</th>\n",
       "      <th>dur_in_E</th>\n",
       "      <th>dur_in_F</th>\n",
       "    </tr>\n",
       "  </thead>\n",
       "  <tbody>\n",
       "    <tr>\n",
       "      <th>0</th>\n",
       "      <td>3</td>\n",
       "      <td>4</td>\n",
       "      <td>4097</td>\n",
       "      <td>1044</td>\n",
       "      <td>1599</td>\n",
       "      <td>1899</td>\n",
       "      <td>779</td>\n",
       "      <td>1943.0</td>\n",
       "    </tr>\n",
       "    <tr>\n",
       "      <th>1</th>\n",
       "      <td>4</td>\n",
       "      <td>5</td>\n",
       "      <td>3887</td>\n",
       "      <td>1323</td>\n",
       "      <td>273</td>\n",
       "      <td>3085</td>\n",
       "      <td>5228</td>\n",
       "      <td>459.0</td>\n",
       "    </tr>\n",
       "    <tr>\n",
       "      <th>2</th>\n",
       "      <td>5</td>\n",
       "      <td>6</td>\n",
       "      <td>808</td>\n",
       "      <td>2314</td>\n",
       "      <td>274</td>\n",
       "      <td>4274</td>\n",
       "      <td>792</td>\n",
       "      <td>144.0</td>\n",
       "    </tr>\n",
       "    <tr>\n",
       "      <th>3</th>\n",
       "      <td>6</td>\n",
       "      <td>7</td>\n",
       "      <td>1474</td>\n",
       "      <td>5541</td>\n",
       "      <td>1039</td>\n",
       "      <td>5270</td>\n",
       "      <td>545</td>\n",
       "      <td>829.0</td>\n",
       "    </tr>\n",
       "    <tr>\n",
       "      <th>4</th>\n",
       "      <td>7</td>\n",
       "      <td>8</td>\n",
       "      <td>1273</td>\n",
       "      <td>2229</td>\n",
       "      <td>684</td>\n",
       "      <td>3479</td>\n",
       "      <td>1246</td>\n",
       "      <td>1533.0</td>\n",
       "    </tr>\n",
       "  </tbody>\n",
       "</table>\n",
       "</div>"
      ],
      "text/plain": [
       "   index  block  dur_in_A  dur_in_B  dur_in_C  dur_in_D  dur_in_E  dur_in_F\n",
       "0      3      4      4097      1044      1599      1899       779    1943.0\n",
       "1      4      5      3887      1323       273      3085      5228     459.0\n",
       "2      5      6       808      2314       274      4274       792     144.0\n",
       "3      6      7      1474      5541      1039      5270       545     829.0\n",
       "4      7      8      1273      2229       684      3479      1246    1533.0"
      ]
     },
     "execution_count": 56,
     "metadata": {},
     "output_type": "execute_result"
    }
   ],
   "source": [
    "fix_dur = pd.concat([fix_in_A, fix_in_B, fix_in_C, fix_in_D,fix_in_E,fix_in_F], axis = 1).drop('blk', 1)\n",
    "# Training removal\n",
    "fix_dur = fix_dur[fix_dur.block != 1]\n",
    "fix_dur = fix_dur[fix_dur.block != 2]\n",
    "fix_dur = fix_dur[fix_dur.block != 3]\n",
    "fix_dur.reset_index(inplace=True)\n",
    "fix_dur.head()"
   ]
  },
  {
   "cell_type": "code",
   "execution_count": 65,
   "metadata": {},
   "outputs": [
    {
     "name": "stdout",
     "output_type": "stream",
     "text": [
      "4_H [4.0, 20.0, 14.0, 0.0, 4.0, 3.0, 1.0, 1.0, 0.0, 0.0, 25.0, 1.0, 13.0, 12.0, 15.0, 14.0, 2.0, 1.0, 8.0, 5.0]\n",
      "3_T [21.0, 4.0, 13.0, 1.0]\n",
      "5_E [3.0, 6.0, 35.0, 7.0, 12.0, 9.0]\n",
      "4_M [19.0, 8.0, 18.0, 5.0, 7.0, 4.0, 10.0, 8.0, 5.0, 1.0, 5.0, 1.0, 4.0, 1.0, 2.0, 6.0, 14.0, 2.0]\n",
      "5_H [4.0, 4.0, 4.0, 4.0, 1.0, 4.0, 20.0, 24.0, 5.0, 1.0]\n",
      "5_M [3.0, 10.0, 3.0, 15.0, 5.0, 21.0, 7.0, 2.0, 5.0, 2.0]\n",
      "4_E [21.0, 16.0, 0.0, 0.0, 10.0, 1.0, 38.0, 10.0, 15.0, 28.0, 18.0, 2.0]\n",
      "2_H [12.0, 14.0, 9.0, 1.0, 25.0, 9.0, 6.0, 15.0]\n",
      "3_E [9.0, 27.0, 15.0, 41.0, 5.0, 28.0, 22.0, 3.0, 20.0, 10.0, 0.0, 0.0, 15.0, 7.0, 13.0, 6.0, 4.0, 48.0]\n",
      "2_M [19.0, 11.0, 3.0, 2.0, 12.0, 31.0, 11.0, 18.0]\n",
      "5_T [6.0, 8.0]\n",
      "3_H [34.0, 10.0, 17.0, 27.0, 14.0, 1.0, 10.0, 10.0, 10.0, 7.0, 13.0, 7.0, 4.0, 1.0, 2.0, 3.0, 9.0]\n",
      "3_M [21.0, 9.0, 8.0, 16.0, 4.0, 2.0, 33.0, 12.0, 7.0, 6.0, 18.0, 4.0, 3.0, 25.0, 31.0, 5.0]\n",
      "2_E [6.0, 4.0, 7.0, 28.0, 3.0, 31.0, 5.0, 8.0, 11.0, 2.0, 7.0, 4.0]\n",
      "4_T [4.0, 10.0, 9.0, 19.0, 2.0, 4.0]\n",
      "1_E [29.0, 29.0, 43.0, 21.0, 4.0, 0.0, 22.0, 2.0, 21.0, 14.0, 6.0, 18.0]\n",
      "1_M [11.0, 41.0, 18.0, 9.0, 8.0, 27.0, 14.0, 19.0, 9.0, 10.0, 5.0, 5.0, 11.0]\n",
      "1_H [26.0, 26.0, 17.0, 26.0, 6.0, 4.0, 9.0, 1.0, 11.0, 26.0, 2.0, 12.0, 5.0, 9.0]\n",
      "6_E [3.0, 9.0, 5.0, 4.0, 10.0, 0.0, 23.0, 2.0, 25.0, 17.0, 28.0, 4.0]\n",
      "6_M [7.0, 11.0, 12.0, 11.0, 3.0, 8.0, 3.0, 8.0, 18.0, 3.0, 23.0, 15.0, 13.0]\n",
      "6_H [10.0, 4.0, 2.0, 10.0, 1.0, 3.0, 2.0, 9.0, 5.0, 8.0, 21.0, 10.0, 2.0, 1.0]\n"
     ]
    }
   ],
   "source": [
    "d = collections.defaultdict(list)\n",
    "for l, row in zip(new_names, fix_dur.iterrows()):\n",
    "    for k, v in  zip(l, row[1][2:]):\n",
    "        d[k].append(v)\n",
    "d.pop('1_T', None)\n",
    "d.pop('6_T', None)\n",
    "\n",
    "for k,v in d.iteritems():\n",
    "    print k, [val for val in v if not math.isnan(val)]"
   ]
  },
  {
   "cell_type": "code",
   "execution_count": 58,
   "metadata": {
    "collapsed": true
   },
   "outputs": [],
   "source": [
    "fix_in_A = fix_data[in_roi(fix_data[['axp', 'ayp']], ROIS['A'])].groupby('block').count()['dur']\n",
    "fix_in_B = fix_data[in_roi(fix_data[['axp', 'ayp']], ROIS['B'])].groupby('block').count()['dur']\n",
    "fix_in_C = fix_data[in_roi(fix_data[['axp', 'ayp']], ROIS['C'])].groupby('block').count()['dur']\n",
    "fix_in_D = fix_data[in_roi(fix_data[['axp', 'ayp']], ROIS['D'])].groupby('block').count()['dur']\n",
    "fix_in_E = fix_data[in_roi(fix_data[['axp', 'ayp']], ROIS['E'])].groupby('block').count()['dur']\n",
    "fix_in_F = fix_data[in_roi(fix_data[['axp', 'ayp']], ROIS['F'])].groupby('block').count()['dur']"
   ]
  },
  {
   "cell_type": "code",
   "execution_count": 59,
   "metadata": {
    "collapsed": true
   },
   "outputs": [],
   "source": [
    "missing_blocks = set(range(1, 39)) - set(fix_in_A.index)\n",
    "for i in list(missing_blocks):\n",
    "     fix_in_A.ix[i] = 0 \n",
    "fix_in_A.sort_index(inplace=True)\n",
    "fix_in_A = fix_in_A.reset_index()\n",
    "\n",
    "missing_blocks = set(range(1, 39)) - set(fix_in_B.index)\n",
    "for i in list(missing_blocks):\n",
    "     fix_in_B.ix[i] = 0 \n",
    "fix_in_B.sort_index(inplace=True)\n",
    "fix_in_B = fix_in_B.reset_index()\n",
    "\n",
    "missing_blocks = set(range(1, 39)) - set(fix_in_C.index)\n",
    "for i in list(missing_blocks):\n",
    "     fix_in_C.ix[i] = 0 \n",
    "fix_in_C.sort_index(inplace=True)\n",
    "fix_in_C = fix_in_C.reset_index()\n",
    "\n",
    "missing_blocks = set(range(1, 39)) - set(fix_in_D.index)\n",
    "for i in list(missing_blocks):\n",
    "     fix_in_D.ix[i] = 0 \n",
    "fix_in_D.sort_index(inplace=True)\n",
    "fix_in_D = fix_in_D.reset_index()\n",
    "\n",
    "missing_blocks = set(range(1, 39)) - set(fix_in_E.index)\n",
    "for i in list(missing_blocks):\n",
    "     fix_in_E.ix[i] = 0 \n",
    "fix_in_E.sort_index(inplace=True)\n",
    "fix_in_E = fix_in_E.reset_index()\n",
    "\n",
    "missing_blocks = set(range(1, 39)) - set(fix_in_F.index)\n",
    "for i in list(missing_blocks):\n",
    "     fix_in_F.ix[i] = 0 \n",
    "fix_in_F.sort_index(inplace=True)\n",
    "fix_in_F = fix_in_F.reset_index()\n",
    "\n",
    "# print fix_in_A.columns\n",
    "fix_in_A.columns = ['block', 'no_in_A']\n",
    "fix_in_B.columns = ['blk', 'no_in_B']\n",
    "fix_in_C.columns = ['blk', 'no_in_C']\n",
    "fix_in_D.columns = ['blk', 'no_in_D']\n",
    "fix_in_E.columns = ['blk', 'no_in_E']\n",
    "fix_in_F.columns = ['blk', 'no_in_F']\n"
   ]
  },
  {
   "cell_type": "code",
   "execution_count": 60,
   "metadata": {
    "collapsed": true
   },
   "outputs": [],
   "source": [
    "fix_dur = pd.concat([fix_in_A, fix_in_B, fix_in_C, fix_in_D,fix_in_E,fix_in_F], axis = 1).drop('blk', 1)\n",
    "fix_dur = fix_dur[fix_dur.block != 1]\n",
    "fix_dur = fix_dur[fix_dur.block != 2]\n",
    "fix_dur = fix_dur[fix_dur.block != 3]\n",
    "fix_dur.reset_index(inplace=True)"
   ]
  },
  {
   "cell_type": "code",
   "execution_count": 61,
   "metadata": {},
   "outputs": [
    {
     "data": {
      "text/html": [
       "<div>\n",
       "<table border=\"1\" class=\"dataframe\">\n",
       "  <thead>\n",
       "    <tr style=\"text-align: right;\">\n",
       "      <th></th>\n",
       "      <th>index</th>\n",
       "      <th>block</th>\n",
       "      <th>no_in_A</th>\n",
       "      <th>no_in_B</th>\n",
       "      <th>no_in_C</th>\n",
       "      <th>no_in_D</th>\n",
       "      <th>no_in_E</th>\n",
       "      <th>no_in_F</th>\n",
       "    </tr>\n",
       "  </thead>\n",
       "  <tbody>\n",
       "    <tr>\n",
       "      <th>0</th>\n",
       "      <td>3</td>\n",
       "      <td>4</td>\n",
       "      <td>21</td>\n",
       "      <td>6.0</td>\n",
       "      <td>8</td>\n",
       "      <td>12</td>\n",
       "      <td>4.0</td>\n",
       "      <td>10.0</td>\n",
       "    </tr>\n",
       "    <tr>\n",
       "      <th>1</th>\n",
       "      <td>4</td>\n",
       "      <td>5</td>\n",
       "      <td>21</td>\n",
       "      <td>9.0</td>\n",
       "      <td>1</td>\n",
       "      <td>19</td>\n",
       "      <td>28.0</td>\n",
       "      <td>4.0</td>\n",
       "    </tr>\n",
       "    <tr>\n",
       "      <th>2</th>\n",
       "      <td>5</td>\n",
       "      <td>6</td>\n",
       "      <td>5</td>\n",
       "      <td>13.0</td>\n",
       "      <td>2</td>\n",
       "      <td>19</td>\n",
       "      <td>4.0</td>\n",
       "      <td>1.0</td>\n",
       "    </tr>\n",
       "    <tr>\n",
       "      <th>3</th>\n",
       "      <td>6</td>\n",
       "      <td>7</td>\n",
       "      <td>9</td>\n",
       "      <td>29.0</td>\n",
       "      <td>6</td>\n",
       "      <td>27</td>\n",
       "      <td>3.0</td>\n",
       "      <td>4.0</td>\n",
       "    </tr>\n",
       "    <tr>\n",
       "      <th>4</th>\n",
       "      <td>7</td>\n",
       "      <td>8</td>\n",
       "      <td>7</td>\n",
       "      <td>11.0</td>\n",
       "      <td>3</td>\n",
       "      <td>19</td>\n",
       "      <td>8.0</td>\n",
       "      <td>10.0</td>\n",
       "    </tr>\n",
       "  </tbody>\n",
       "</table>\n",
       "</div>"
      ],
      "text/plain": [
       "   index  block  no_in_A  no_in_B  no_in_C  no_in_D  no_in_E  no_in_F\n",
       "0      3      4       21      6.0        8       12      4.0     10.0\n",
       "1      4      5       21      9.0        1       19     28.0      4.0\n",
       "2      5      6        5     13.0        2       19      4.0      1.0\n",
       "3      6      7        9     29.0        6       27      3.0      4.0\n",
       "4      7      8        7     11.0        3       19      8.0     10.0"
      ]
     },
     "execution_count": 61,
     "metadata": {},
     "output_type": "execute_result"
    }
   ],
   "source": [
    "fix_dur.head()"
   ]
  },
  {
   "cell_type": "code",
   "execution_count": 62,
   "metadata": {},
   "outputs": [
    {
     "name": "stdout",
     "output_type": "stream",
     "text": [
      "4_H 143.0\n",
      "3_T 39.0\n",
      "5_E 72.0\n",
      "4_M 120.0\n",
      "5_H 71.0\n",
      "5_M 73.0\n",
      "4_E 159.0\n",
      "2_H 91.0\n",
      "3_E 273.0\n",
      "2_M 107.0\n",
      "5_T 14.0\n",
      "3_H 179.0\n",
      "3_M 204.0\n",
      "2_E 116.0\n",
      "4_T 48.0\n",
      "1_E 209.0\n",
      "1_M 187.0\n",
      "1_H 180.0\n",
      "6_E 130.0\n",
      "6_M 135.0\n",
      "6_H 88.0\n"
     ]
    }
   ],
   "source": [
    "d = collections.defaultdict(list)\n",
    "for l, row in zip(new_names, fix_dur.iterrows()):\n",
    "    for k, v in  zip(l, row[1][2:]):\n",
    "        d[k].append(v)\n",
    "\n",
    "d.pop('1_T', None)\n",
    "d.pop('6_T', None)\n",
    "for k,v in d.iteritems():\n",
    "    print k, np.sum([val for val in v if not math.isnan(val)])"
   ]
  },
  {
   "cell_type": "markdown",
   "metadata": {},
   "source": [
    "# Pupil size"
   ]
  },
  {
   "cell_type": "code",
   "execution_count": 63,
   "metadata": {},
   "outputs": [
    {
     "data": {
      "text/html": [
       "<div>\n",
       "<table border=\"1\" class=\"dataframe\">\n",
       "  <thead>\n",
       "    <tr style=\"text-align: right;\">\n",
       "      <th></th>\n",
       "      <th>stime</th>\n",
       "      <th>etime</th>\n",
       "      <th>dur</th>\n",
       "      <th>axp</th>\n",
       "      <th>ayp</th>\n",
       "      <th>aps</th>\n",
       "      <th>eye</th>\n",
       "      <th>block</th>\n",
       "    </tr>\n",
       "  </thead>\n",
       "  <tbody>\n",
       "    <tr>\n",
       "      <th>0</th>\n",
       "      <td>1447070</td>\n",
       "      <td>1447093</td>\n",
       "      <td>24</td>\n",
       "      <td>980.6</td>\n",
       "      <td>133.9</td>\n",
       "      <td>801</td>\n",
       "      <td>R</td>\n",
       "      <td>1</td>\n",
       "    </tr>\n",
       "    <tr>\n",
       "      <th>1</th>\n",
       "      <td>1447172</td>\n",
       "      <td>1447294</td>\n",
       "      <td>123</td>\n",
       "      <td>1082.1</td>\n",
       "      <td>371.4</td>\n",
       "      <td>825</td>\n",
       "      <td>R</td>\n",
       "      <td>1</td>\n",
       "    </tr>\n",
       "    <tr>\n",
       "      <th>2</th>\n",
       "      <td>1447379</td>\n",
       "      <td>1447510</td>\n",
       "      <td>132</td>\n",
       "      <td>82.8</td>\n",
       "      <td>229.8</td>\n",
       "      <td>867</td>\n",
       "      <td>R</td>\n",
       "      <td>1</td>\n",
       "    </tr>\n",
       "    <tr>\n",
       "      <th>3</th>\n",
       "      <td>1447562</td>\n",
       "      <td>1447878</td>\n",
       "      <td>317</td>\n",
       "      <td>35.1</td>\n",
       "      <td>20.1</td>\n",
       "      <td>871</td>\n",
       "      <td>R</td>\n",
       "      <td>1</td>\n",
       "    </tr>\n",
       "    <tr>\n",
       "      <th>4</th>\n",
       "      <td>1447940</td>\n",
       "      <td>1448077</td>\n",
       "      <td>138</td>\n",
       "      <td>568.7</td>\n",
       "      <td>264.4</td>\n",
       "      <td>910</td>\n",
       "      <td>R</td>\n",
       "      <td>1</td>\n",
       "    </tr>\n",
       "  </tbody>\n",
       "</table>\n",
       "</div>"
      ],
      "text/plain": [
       "     stime    etime  dur     axp    ayp  aps eye  block\n",
       "0  1447070  1447093   24   980.6  133.9  801   R      1\n",
       "1  1447172  1447294  123  1082.1  371.4  825   R      1\n",
       "2  1447379  1447510  132    82.8  229.8  867   R      1\n",
       "3  1447562  1447878  317    35.1   20.1  871   R      1\n",
       "4  1447940  1448077  138   568.7  264.4  910   R      1"
      ]
     },
     "execution_count": 63,
     "metadata": {},
     "output_type": "execute_result"
    }
   ],
   "source": [
    "fix_data.head()"
   ]
  },
  {
   "cell_type": "code",
   "execution_count": 64,
   "metadata": {},
   "outputs": [
    {
     "data": {
      "text/plain": [
       "answers\n",
       "[1, 2, 2, 3, 3, 6]     956.498449\n",
       "[1, 2, 3, 4, 5, 6]    1023.741626\n",
       "[1, 3, 3, 4, 4, 6]     905.367596\n",
       "[1, 4, 4, 5, 5, 6]     972.742194\n",
       "Name: avg_pupil_size, dtype: float64"
      ]
     },
     "execution_count": 64,
     "metadata": {},
     "output_type": "execute_result"
    }
   ],
   "source": [
    "fix_in_matrix_area = pd.concat([in_roi(fix_data[['axp', 'ayp']], ROIS['A']),\n",
    "                                in_roi(fix_data[['axp', 'ayp']], ROIS['B']),\n",
    "                                in_roi(fix_data[['axp', 'ayp']], ROIS['C']),\n",
    "                                in_roi(fix_data[['axp', 'ayp']], ROIS['D']),\n",
    "                                in_roi(fix_data[['axp', 'ayp']], ROIS['E']),\n",
    "                                in_roi(fix_data[['axp', 'ayp']], ROIS['F'])], axis = 1).any(axis = 1)\n",
    "avg_pupul_size = fix_data[fix_in_matrix_area].groupby('block').mean()['aps']\n",
    "\n",
    "missing_blocks = set(range(1, 39)) - set(avg_pupul_size.index)\n",
    "for i in list(missing_blocks):\n",
    "     avg_pupul_size.ix[i] = 0 \n",
    "avg_pupul_size.sort_index(inplace=True)\n",
    "avg_pupul_size = avg_pupul_size.reset_index()\n",
    "\n",
    "beh_data['avg_pupil_size'] = avg_pupul_size['aps']\n",
    "w = beh_data.groupby('answers').mean()['avg_pupil_size']\n",
    "w"
   ]
  },
  {
   "cell_type": "code",
   "execution_count": null,
   "metadata": {
    "collapsed": true
   },
   "outputs": [],
   "source": []
  },
  {
   "cell_type": "code",
   "execution_count": null,
   "metadata": {
    "collapsed": true
   },
   "outputs": [],
   "source": []
  },
  {
   "cell_type": "code",
   "execution_count": null,
   "metadata": {
    "collapsed": true
   },
   "outputs": [],
   "source": []
  }
 ],
 "metadata": {
  "anaconda-cloud": {},
  "kernelspec": {
   "display_name": "Python 3",
   "language": "python",
   "name": "python3"
  },
  "language_info": {
   "codemirror_mode": {
    "name": "ipython",
    "version": 3
   },
   "file_extension": ".py",
   "mimetype": "text/x-python",
   "name": "python",
   "nbconvert_exporter": "python",
   "pygments_lexer": "ipython3",
   "version": "3.6.4"
  }
 },
 "nbformat": 4,
 "nbformat_minor": 1
}
