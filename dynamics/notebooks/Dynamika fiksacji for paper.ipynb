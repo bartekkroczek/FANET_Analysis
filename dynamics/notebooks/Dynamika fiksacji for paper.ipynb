{
 "cells": [
  {
   "cell_type": "code",
   "execution_count": null,
   "metadata": {},
   "outputs": [],
   "source": [
    "import pandas as pd\n",
    "from os.path import join\n",
    "import numpy as np\n",
    "import matplotlib.pyplot as plt\n",
    "%matplotlib notebook\n",
    "plt.rcParams[\"figure.figsize\"] = [10, 6]"
   ]
  },
  {
   "cell_type": "markdown",
   "metadata": {},
   "source": [
    "# Analiza dynamiki fiksacji\n",
    "## Analiza A - dynamika w funkcji wybranej odpowiedzi"
   ]
  },
  {
   "cell_type": "code",
   "execution_count": null,
   "metadata": {},
   "outputs": [],
   "source": [
    "Lmin = 2\n",
    "Lmax = 22\n",
    "WINDOW_SIZE = 5\n",
    "results = join('..', 'results', 'results_for_paper')"
   ]
  },
  {
   "cell_type": "code",
   "execution_count": null,
   "metadata": {},
   "outputs": [],
   "source": [
    "### DATA LOADING\n",
    "corr_lev_easy = pd.read_csv(join(results, 'dynamics_CORR_LEV_EASY.csv'))\n",
    "corr_lev_med = pd.read_csv(join(results, 'dynamics_CORR_LEV_MED.csv'))\n",
    "corr_lev_hard = pd.read_csv(join(results, 'dynamics_CORR_LEV_HARD.csv'))\n",
    "\n",
    "err_lev_easy = pd.read_csv(join(results, 'dynamics_ERR_LEV_EASY.csv'))\n",
    "err_lev_med = pd.read_csv(join(results, 'dynamics_ERR_LEV_MED.csv'))\n",
    "err_lev_hard = pd.read_csv(join(results, 'dynamics_ERR_LEV_HARD.csv'))\n",
    "\n",
    "\n",
    "wmc_low_lev_easy = pd.read_csv(join(results, 'dynamics_WMC_LOW_LEV_EASY.csv'))\n",
    "wmc_med_lev_easy = pd.read_csv(join(results, 'dynamics_WMC_MED_LEV_EASY.csv'))\n",
    "wmc_high_lev_easy = pd.read_csv(join(results, 'dynamics_WMC_HIGH_LEV_EASY.csv'))\n",
    "\n",
    "wmc_low_lev_med = pd.read_csv(join(results, 'dynamics_WMC_LOW_LEV_MED.csv'))\n",
    "wmc_med_lev_med = pd.read_csv(join(results, 'dynamics_WMC_MED_LEV_MED.csv'))\n",
    "wmc_high_lev_med = pd.read_csv(join(results, 'dynamics_WMC_HIGH_LEV_MED.csv'))\n",
    "\n",
    "wmc_low_lev_hard = pd.read_csv(join(results, 'dynamics_WMC_LOW_LEV_HARD.csv'))\n",
    "wmc_med_lev_hard = pd.read_csv(join(results, 'dynamics_WMC_MED_LEV_HARD.csv'))\n",
    "wmc_high_lev_hard = pd.read_csv(join(results, 'dynamics_WMC_HIGH_LEV_HARD.csv'))\n",
    "\n",
    "\n",
    "#CORRECTIONS LOADING\n",
    "\n",
    "CI_corr_lev_easy = pd.read_csv(join(results, 'dynamics_CI_CORR_LEV_EASY.csv'))\n",
    "CI_corr_lev_med = pd.read_csv(join(results, 'dynamics_CI_CORR_LEV_MED.csv'))\n",
    "CI_corr_lev_hard = pd.read_csv(join(results, 'dynamics_CI_CORR_LEV_HARD.csv'))\n",
    "\n",
    "CI_err_lev_easy = pd.read_csv(join(results, 'dynamics_CI_ERR_LEV_EASY.csv'))\n",
    "CI_err_lev_med = pd.read_csv(join(results, 'dynamics_CI_ERR_LEV_MED.csv'))\n",
    "CI_err_lev_hard = pd.read_csv(join(results, 'dynamics_CI_ERR_LEV_HARD.csv'))\n",
    "\n",
    "# Divide PROP by WINDOW SIZE, TO MAKE IT PROPORTIONAL \n",
    "corr_lev_easy['PROP_FOx'] /= WINDOW_SIZE\n",
    "corr_lev_med['PROP_FOx'] /= WINDOW_SIZE\n",
    "corr_lev_hard['PROP_FOx'] /= WINDOW_SIZE\n",
    "err_lev_easy['PROP_FOx'] /= WINDOW_SIZE\n",
    "err_lev_med['PROP_FOx'] /= WINDOW_SIZE\n",
    "err_lev_hard['PROP_FOx'] /= WINDOW_SIZE\n",
    "wmc_low_lev_easy['PROP_FOx'] /= WINDOW_SIZE\n",
    "wmc_med_lev_easy['PROP_FOx'] /= WINDOW_SIZE\n",
    "wmc_high_lev_easy['PROP_FOx'] /= WINDOW_SIZE\n",
    "wmc_low_lev_med['PROP_FOx'] /= WINDOW_SIZE\n",
    "wmc_med_lev_med['PROP_FOx'] /= WINDOW_SIZE\n",
    "wmc_high_lev_med['PROP_FOx'] /= WINDOW_SIZE\n",
    "wmc_low_lev_hard['PROP_FOx'] /= WINDOW_SIZE\n",
    "wmc_med_lev_hard['PROP_FOx'] /= WINDOW_SIZE\n",
    "wmc_high_lev_hard['PROP_FOx'] /= WINDOW_SIZE\n",
    "\n",
    "\n",
    "\n",
    "\n",
    "corr_lev_easy['FOx_STD'] /= WINDOW_SIZE\n",
    "corr_lev_med['FOx_STD'] /= WINDOW_SIZE\n",
    "corr_lev_hard['FOx_STD'] /= WINDOW_SIZE\n",
    "err_lev_easy['FOx_STD'] /= WINDOW_SIZE\n",
    "err_lev_med['FOx_STD'] /= WINDOW_SIZE\n",
    "err_lev_hard['FOx_STD'] /= WINDOW_SIZE\n",
    "wmc_low_lev_easy['FOx_STD'] /= WINDOW_SIZE\n",
    "wmc_med_lev_easy['FOx_STD'] /= WINDOW_SIZE\n",
    "wmc_high_lev_easy['FOx_STD'] /= WINDOW_SIZE\n",
    "wmc_low_lev_med['FOx_STD'] /= WINDOW_SIZE\n",
    "wmc_med_lev_med['FOx_STD'] /= WINDOW_SIZE\n",
    "wmc_high_lev_med['FOx_STD'] /= WINDOW_SIZE\n",
    "wmc_low_lev_hard['FOx_STD'] /= WINDOW_SIZE\n",
    "wmc_med_lev_hard['FOx_STD'] /= WINDOW_SIZE\n",
    "wmc_high_lev_hard['FOx_STD'] /= WINDOW_SIZE\n",
    "\n",
    "\n",
    "CI_corr_lev_easy['FOx_STD'] /= WINDOW_SIZE\n",
    "CI_corr_lev_med['FOx_STD'] /= WINDOW_SIZE\n",
    "CI_corr_lev_hard['FOx_STD'] /= WINDOW_SIZE\n",
    "CI_err_lev_easy['FOx_STD'] /= WINDOW_SIZE\n",
    "CI_err_lev_med['FOx_STD'] /= WINDOW_SIZE\n",
    "CI_err_lev_hard['FOx_STD'] /= WINDOW_SIZE\n",
    "\n"
   ]
  },
  {
   "cell_type": "markdown",
   "metadata": {},
   "source": [
    "# Predziały ufności\n",
    "1.96 razy odchylenie standardowe danej miary (tzn. albo PROP_FO albo AVG_RM) podzielone przez pierwiastek kwadratowy z liczby triali dla tej sekundy (czyli Kx): 1.96*(SDx/SQRT(Kx)) [inaczej 1.96 razy błąd standardowy miary w danej sekundzie]."
   ]
  },
  {
   "cell_type": "code",
   "execution_count": null,
   "metadata": {},
   "outputs": [],
   "source": [
    "def add_CI(data, param, corr = None):\n",
    "    N = {'PROP_FOx': 'Kx', 'AVG_RMx': 'RMk'}[param]\n",
    "    STD = {'PROP_FOx': 'FOx_STD', 'AVG_RMx': 'RMx_STD'}[param]\n",
    "    if not (corr is None):\n",
    "        data[param + '_low_CI'] = data[param] - (1.96 * corr[STD] / np.sqrt(corr[N]))\n",
    "        data[param + '_high_CI'] = data[param] + (1.96 * corr[STD] / np.sqrt(corr[N]))\n",
    "    else:\n",
    "        data[param + '_low_CI'] = data[param] - (1.96 * data[STD] / np.sqrt(data[N]))\n",
    "        data[param + '_high_CI'] = data[param] + (1.96 * data[STD] / np.sqrt(data[N]))\n",
    "      \n",
    "        \n",
    "# def add_CI_PROP(data):\n",
    "#     data[\"PROP_FOx_low_CI\"] = data['PROP_FOx'] -  (1.96 * (data.FOx_STD / np.sqrt(data.Kx)))\n",
    "#     data[\"PROP_FOx_high_CI\"] = data[\"PROP_FOx\"] +  (1.96 * (data.FOx_STD / np.sqrt(data.Kx)))\n",
    "    \n",
    "# def add_CI_RM(data):\n",
    "#     data[\"AVG_RMx_low_CI\"] = data['AVG_RMx'] -  (1.96 * (data.RMx_STD / np.sqrt(data.RMk)))\n",
    "#     data[\"AVG_RMx_high_CI\"] = data['AVG_RMx'] +  (1.96 * (data.RMx_STD / np.sqrt(data.RMk)))\n",
    "    \n",
    "def plot_CI(data, param,labels, title):\n",
    "    # Define a function for the line plot with intervals\n",
    "    _, ax = plt.subplots()\n",
    "\n",
    "    # Plot the data, set the linewidth, color and transparency of the\n",
    "    # line, provide a label for the legend\n",
    "    ax.plot([x * WINDOW_SIZE for x in data[0][param].index.tolist()],\n",
    "            data[0][param].tolist(), \n",
    "            lw = 1,\n",
    "            color = 'green',\n",
    "            alpha = 1,\n",
    "            label = labels[0])\n",
    "    # Shade the confidence interval\n",
    "    ax.fill_between([x * WINDOW_SIZE for x in data[0][param].index.tolist()],\n",
    "                    data[0][param+\"_low_CI\"],\n",
    "                    data[0][param+\"_high_CI\"], \n",
    "                    color = 'green',\n",
    "                    alpha = 0.4,\n",
    "                    label = '95% CI')\n",
    "\n",
    "    ax.plot([x * WINDOW_SIZE for x in data[1][param].index.tolist()],\n",
    "            data[1][param].tolist(), \n",
    "            lw = 1,\n",
    "            color = 'red',\n",
    "            alpha = 1,\n",
    "            label = labels[1])\n",
    "    # Shade the confidence interval\n",
    "    ax.fill_between([x * WINDOW_SIZE for x in data[1][param].index.tolist()],\n",
    "                    data[1][param+\"_low_CI\"],\n",
    "                    data[1][param+\"_high_CI\"], \n",
    "                    color = 'red',\n",
    "                    alpha = 0.4,\n",
    "                    label = '95% CI')\n",
    "    if len(data) == 3:\n",
    "        ax.plot([x * WINDOW_SIZE for x in data[2][param].index.tolist()],\n",
    "                data[2][param].tolist(), \n",
    "                lw = 1,\n",
    "                color = 'blue',\n",
    "                alpha = 1,\n",
    "                label = labels[2])\n",
    "        # Shade the confidence interval\n",
    "        ax.fill_between([x * WINDOW_SIZE for x in data[2][param].index.tolist()],\n",
    "                        data[2][param+\"_low_CI\"],\n",
    "                        data[2][param+\"_high_CI\"], \n",
    "                        color = 'blue',\n",
    "                        alpha = 0.4,\n",
    "                        label = '95% CI')\n",
    "\n",
    "    # Label the axes and provide a title\n",
    "    ax.set_title(title)\n",
    "    ax.set_xlabel('Time of experiment(s)')\n",
    "    ax.set_ylabel(param)\n",
    "    ax.set_xlim([WINDOW_SIZE * Lmin,WINDOW_SIZE * (Lmax-1)])\n",
    "#     ax.set_ylim([0,1])\n",
    "\n",
    "        # Display legend\n",
    "    ax.legend(loc = 'best')\n"
   ]
  },
  {
   "cell_type": "markdown",
   "metadata": {},
   "source": [
    "# I. WMC ON LEVEL"
   ]
  },
  {
   "cell_type": "markdown",
   "metadata": {},
   "source": [
    "## WMC LOW"
   ]
  },
  {
   "cell_type": "markdown",
   "metadata": {},
   "source": [
    "### PROP FOX "
   ]
  },
  {
   "cell_type": "code",
   "execution_count": null,
   "metadata": {},
   "outputs": [],
   "source": [
    "add_CI(wmc_low_lev_easy, 'PROP_FOx')\n",
    "add_CI(wmc_low_lev_med, 'PROP_FOx')\n",
    "add_CI(wmc_low_lev_hard, 'PROP_FOx')"
   ]
  },
  {
   "cell_type": "code",
   "execution_count": null,
   "metadata": {},
   "outputs": [],
   "source": [
    "plot_CI([wmc_low_lev_easy, wmc_low_lev_med, wmc_low_lev_hard], 'PROP_FOx', ['EASY', 'MEDIUM', 'HARD'], 'Prop FOx WMC LOW VS LEVEL')"
   ]
  },
  {
   "cell_type": "markdown",
   "metadata": {},
   "source": [
    "### AVG RM "
   ]
  },
  {
   "cell_type": "code",
   "execution_count": null,
   "metadata": {},
   "outputs": [],
   "source": [
    "add_CI(wmc_low_lev_easy, 'AVG_RMx')\n",
    "add_CI(wmc_low_lev_med, 'AVG_RMx')\n",
    "add_CI(wmc_low_lev_hard, 'AVG_RMx')"
   ]
  },
  {
   "cell_type": "code",
   "execution_count": null,
   "metadata": {},
   "outputs": [],
   "source": [
    "plot_CI([wmc_low_lev_easy, wmc_low_lev_med, wmc_low_lev_hard], 'AVG_RMx', ['EASY', 'MEDIUM', 'HARD'], 'AVG RMx WMC LOW VS LEVEL')"
   ]
  },
  {
   "cell_type": "markdown",
   "metadata": {},
   "source": [
    "## WMC MED"
   ]
  },
  {
   "cell_type": "markdown",
   "metadata": {},
   "source": [
    "### PROP FOX "
   ]
  },
  {
   "cell_type": "code",
   "execution_count": null,
   "metadata": {},
   "outputs": [],
   "source": [
    "add_CI(wmc_med_lev_easy, 'PROP_FOx')\n",
    "add_CI(wmc_med_lev_med, 'PROP_FOx')\n",
    "add_CI(wmc_med_lev_hard, 'PROP_FOx')"
   ]
  },
  {
   "cell_type": "code",
   "execution_count": null,
   "metadata": {},
   "outputs": [],
   "source": [
    "plot_CI([wmc_med_lev_easy, wmc_med_lev_med, wmc_med_lev_hard], 'PROP_FOx', ['EASY', 'MEDIUM', 'HARD'], 'Prop FOx WMC MED VS LEVEL')"
   ]
  },
  {
   "cell_type": "markdown",
   "metadata": {},
   "source": [
    "### AVG RM "
   ]
  },
  {
   "cell_type": "code",
   "execution_count": null,
   "metadata": {},
   "outputs": [],
   "source": [
    "add_CI(wmc_med_lev_easy, 'AVG_RMx')\n",
    "add_CI(wmc_med_lev_med, 'AVG_RMx')\n",
    "add_CI(wmc_med_lev_hard, 'AVG_RMx')"
   ]
  },
  {
   "cell_type": "code",
   "execution_count": null,
   "metadata": {},
   "outputs": [],
   "source": [
    "plot_CI([wmc_med_lev_easy, wmc_med_lev_med, wmc_med_lev_hard], 'AVG_RMx', ['EASY', 'MEDIUM', 'HARD'], 'AVG RMx WMC MED VS LEVEL')"
   ]
  },
  {
   "cell_type": "markdown",
   "metadata": {},
   "source": [
    "## WMC HIGH"
   ]
  },
  {
   "cell_type": "markdown",
   "metadata": {},
   "source": [
    "### PROP FOX "
   ]
  },
  {
   "cell_type": "code",
   "execution_count": null,
   "metadata": {},
   "outputs": [],
   "source": [
    "add_CI(wmc_high_lev_easy, 'PROP_FOx')\n",
    "add_CI(wmc_high_lev_med, 'PROP_FOx')\n",
    "add_CI(wmc_high_lev_hard, 'PROP_FOx')"
   ]
  },
  {
   "cell_type": "code",
   "execution_count": null,
   "metadata": {},
   "outputs": [],
   "source": [
    "plot_CI([wmc_high_lev_easy, wmc_high_lev_med, wmc_high_lev_hard], 'PROP_FOx', ['EASY', 'MEDIUM', 'HARD'], 'Prop FOx WMC HIGH VS LEVEL')"
   ]
  },
  {
   "cell_type": "markdown",
   "metadata": {},
   "source": [
    "### AVG RM "
   ]
  },
  {
   "cell_type": "code",
   "execution_count": null,
   "metadata": {},
   "outputs": [],
   "source": [
    "add_CI(wmc_high_lev_easy, 'AVG_RMx')\n",
    "add_CI(wmc_high_lev_med, 'AVG_RMx')\n",
    "add_CI(wmc_high_lev_hard, 'AVG_RMx')"
   ]
  },
  {
   "cell_type": "code",
   "execution_count": null,
   "metadata": {},
   "outputs": [],
   "source": [
    "plot_CI([wmc_high_lev_easy, wmc_high_lev_med, wmc_high_lev_hard], 'AVG_RMx', ['EASY', 'MEDIUM', 'HARD'], 'AVG RMx WMC HIGH VS LEVEL')"
   ]
  },
  {
   "cell_type": "markdown",
   "metadata": {},
   "source": [
    "# II. LEVEL ON WMC"
   ]
  },
  {
   "cell_type": "markdown",
   "metadata": {},
   "source": [
    "## LEVEL EASY"
   ]
  },
  {
   "cell_type": "markdown",
   "metadata": {},
   "source": [
    "### PROP FOX "
   ]
  },
  {
   "cell_type": "code",
   "execution_count": null,
   "metadata": {},
   "outputs": [],
   "source": [
    "plot_CI([wmc_low_lev_easy, wmc_med_lev_easy, wmc_high_lev_easy], 'PROP_FOx', ['LOW', 'MEDIUM', 'HIGH'], 'Prop FOx LEVEL EASY VS WMC')"
   ]
  },
  {
   "cell_type": "markdown",
   "metadata": {},
   "source": [
    "### AVG RM "
   ]
  },
  {
   "cell_type": "code",
   "execution_count": null,
   "metadata": {},
   "outputs": [],
   "source": [
    "plot_CI([wmc_low_lev_easy, wmc_med_lev_easy, wmc_high_lev_easy], 'AVG_RMx', ['LOW', 'MEDIUM', 'HIGH'], 'AVG RMX LEVEL EASY VS WMC')"
   ]
  },
  {
   "cell_type": "markdown",
   "metadata": {},
   "source": [
    "## LEV MED"
   ]
  },
  {
   "cell_type": "markdown",
   "metadata": {},
   "source": [
    "### PROP FOX "
   ]
  },
  {
   "cell_type": "code",
   "execution_count": null,
   "metadata": {},
   "outputs": [],
   "source": [
    "plot_CI([wmc_low_lev_med, wmc_med_lev_med, wmc_high_lev_med], 'PROP_FOx', ['LOW', 'MEDIUM', 'HIGH'], 'Prop FOx LEV MED VS WMC')"
   ]
  },
  {
   "cell_type": "markdown",
   "metadata": {},
   "source": [
    "### AVG RM "
   ]
  },
  {
   "cell_type": "code",
   "execution_count": null,
   "metadata": {},
   "outputs": [],
   "source": [
    "plot_CI([wmc_low_lev_med, wmc_med_lev_med, wmc_high_lev_med], 'AVG_RMx', ['LOW', 'MEDIUM', 'HIGH'], 'AVG RMx LEV MED VS WMC')"
   ]
  },
  {
   "cell_type": "markdown",
   "metadata": {},
   "source": [
    "## LEVEL HARD"
   ]
  },
  {
   "cell_type": "markdown",
   "metadata": {},
   "source": [
    "### PROP FOX "
   ]
  },
  {
   "cell_type": "code",
   "execution_count": null,
   "metadata": {},
   "outputs": [],
   "source": [
    "plot_CI([wmc_low_lev_hard, wmc_med_lev_hard, wmc_high_lev_hard], 'PROP_FOx', ['LOW', 'MEDIUM', 'HIGH'], 'Prop FOx LEVEL HARD VS WMC')"
   ]
  },
  {
   "cell_type": "markdown",
   "metadata": {},
   "source": [
    "### AVG RM "
   ]
  },
  {
   "cell_type": "code",
   "execution_count": null,
   "metadata": {},
   "outputs": [],
   "source": [
    "plot_CI([wmc_low_lev_hard, wmc_med_lev_hard, wmc_high_lev_hard], 'AVG_RMx', ['LOW', 'MEDIUM', 'HIGH'], 'AVG RMx LEVEL HARD VS WMC')"
   ]
  },
  {
   "cell_type": "markdown",
   "metadata": {},
   "source": [
    "# III. CORRECTNES ON LEVEL "
   ]
  },
  {
   "cell_type": "markdown",
   "metadata": {},
   "source": [
    "## LEVEL EASY"
   ]
  },
  {
   "cell_type": "markdown",
   "metadata": {},
   "source": [
    "### PROP FOX"
   ]
  },
  {
   "cell_type": "code",
   "execution_count": null,
   "metadata": {},
   "outputs": [],
   "source": [
    "add_CI(corr_lev_easy, 'PROP_FOx', corr = CI_corr_lev_easy)\n",
    "add_CI(err_lev_easy,'PROP_FOx', corr = CI_err_lev_easy)"
   ]
  },
  {
   "cell_type": "code",
   "execution_count": null,
   "metadata": {},
   "outputs": [],
   "source": [
    "plot_CI([corr_lev_easy, err_lev_easy], 'PROP_FOx', ['CORR', 'ERR'], 'PROP_FOx LEVEL EASY CORRECTNESS')"
   ]
  },
  {
   "cell_type": "markdown",
   "metadata": {},
   "source": [
    "### AVG RM"
   ]
  },
  {
   "cell_type": "code",
   "execution_count": null,
   "metadata": {},
   "outputs": [],
   "source": [
    "add_CI(corr_lev_easy, 'AVG_RMx', corr = CI_corr_lev_easy)\n",
    "add_CI(err_lev_easy,'AVG_RMx', corr = CI_err_lev_easy)"
   ]
  },
  {
   "cell_type": "code",
   "execution_count": null,
   "metadata": {},
   "outputs": [],
   "source": [
    "plot_CI([corr_lev_easy, err_lev_easy], 'AVG_RMx', ['CORR', 'ERR'], 'AVG_RMx LEVEL EASY CORRECTNESS')"
   ]
  },
  {
   "cell_type": "markdown",
   "metadata": {},
   "source": [
    "## LEVEL MEDIUM"
   ]
  },
  {
   "cell_type": "markdown",
   "metadata": {},
   "source": [
    "### PROP FOX"
   ]
  },
  {
   "cell_type": "code",
   "execution_count": null,
   "metadata": {},
   "outputs": [],
   "source": [
    "add_CI(corr_lev_med, 'PROP_FOx', corr = CI_corr_lev_med)\n",
    "add_CI(err_lev_med,'PROP_FOx', corr = CI_err_lev_med)"
   ]
  },
  {
   "cell_type": "code",
   "execution_count": null,
   "metadata": {},
   "outputs": [],
   "source": [
    "plot_CI([corr_lev_med, err_lev_med], 'PROP_FOx', ['CORR', 'ERR'], 'PROP_FOx LEVEL MEDIUM CORRECTNESS')"
   ]
  },
  {
   "cell_type": "markdown",
   "metadata": {},
   "source": [
    "### AVG RM"
   ]
  },
  {
   "cell_type": "code",
   "execution_count": null,
   "metadata": {},
   "outputs": [],
   "source": [
    "add_CI(corr_lev_med, 'AVG_RMx', corr = CI_corr_lev_med)\n",
    "add_CI(err_lev_med,'AVG_RMx', corr = CI_err_lev_med)"
   ]
  },
  {
   "cell_type": "code",
   "execution_count": null,
   "metadata": {},
   "outputs": [],
   "source": [
    "plot_CI([corr_lev_med, err_lev_med], 'AVG_RMx', ['CORR', 'ERR'], 'AVG_RMx LEVEL MEDIUM CORRECTNESS')"
   ]
  },
  {
   "cell_type": "markdown",
   "metadata": {},
   "source": [
    "## LEVEL HARD"
   ]
  },
  {
   "cell_type": "markdown",
   "metadata": {},
   "source": [
    "### PROP FOX"
   ]
  },
  {
   "cell_type": "code",
   "execution_count": null,
   "metadata": {},
   "outputs": [],
   "source": [
    "add_CI(corr_lev_hard, 'PROP_FOx', corr = CI_corr_lev_hard)\n",
    "add_CI(err_lev_hard,'PROP_FOx', corr = CI_err_lev_hard)"
   ]
  },
  {
   "cell_type": "code",
   "execution_count": null,
   "metadata": {},
   "outputs": [],
   "source": [
    "plot_CI([corr_lev_hard, err_lev_hard], 'PROP_FOx', ['CORR', 'ERR'], 'PROP_FOx LEVEL HARD CORRECTNESS')"
   ]
  },
  {
   "cell_type": "markdown",
   "metadata": {},
   "source": [
    "### AVG RM"
   ]
  },
  {
   "cell_type": "code",
   "execution_count": null,
   "metadata": {},
   "outputs": [],
   "source": [
    "add_CI(corr_lev_hard, 'AVG_RMx', corr = CI_corr_lev_hard)\n",
    "add_CI(err_lev_hard,'AVG_RMx', corr = CI_err_lev_hard)"
   ]
  },
  {
   "cell_type": "code",
   "execution_count": null,
   "metadata": {},
   "outputs": [],
   "source": [
    "plot_CI([corr_lev_hard, err_lev_hard], 'AVG_RMx', ['CORR', 'ERR'], 'AVG_RMx LEVEL HARD CORRECTNESS')"
   ]
  },
  {
   "cell_type": "code",
   "execution_count": null,
   "metadata": {},
   "outputs": [],
   "source": []
  }
 ],
 "metadata": {
  "kernelspec": {
   "display_name": "Python 3",
   "language": "python",
   "name": "python3"
  },
  "language_info": {
   "codemirror_mode": {
    "name": "ipython",
    "version": 3
   },
   "file_extension": ".py",
   "mimetype": "text/x-python",
   "name": "python",
   "nbconvert_exporter": "python",
   "pygments_lexer": "ipython3",
   "version": "3.6.4"
  }
 },
 "nbformat": 4,
 "nbformat_minor": 2
}
