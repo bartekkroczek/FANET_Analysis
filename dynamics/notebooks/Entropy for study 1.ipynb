{
 "cells": [
  {
   "cell_type": "code",
   "execution_count": 1,
   "metadata": {
    "ExecuteTime": {
     "end_time": "2019-03-15T11:30:53.046352Z",
     "start_time": "2019-03-15T11:30:51.751623Z"
    }
   },
   "outputs": [],
   "source": [
    "import pandas as pd\n",
    "from os.path import join\n",
    "import numpy as np\n",
    "import matplotlib.pyplot as plt\n",
    "from scipy.stats import entropy\n",
    "import qgrid\n",
    "%matplotlib notebook\n",
    "import matplotlib as mpl\n",
    "mpl.style.use('seaborn-whitegrid')\n",
    "plt.rcParams[\"figure.figsize\"] = [12, 7]"
   ]
  },
  {
   "cell_type": "code",
   "execution_count": 2,
   "metadata": {
    "ExecuteTime": {
     "end_time": "2019-03-15T11:30:53.811087Z",
     "start_time": "2019-03-15T11:30:53.807562Z"
    }
   },
   "outputs": [],
   "source": [
    "results = join('..', 'results', 'results_for_entropy')"
   ]
  },
  {
   "cell_type": "code",
   "execution_count": 3,
   "metadata": {
    "ExecuteTime": {
     "end_time": "2019-03-15T11:30:56.395862Z",
     "start_time": "2019-03-15T11:30:56.289779Z"
    }
   },
   "outputs": [],
   "source": [
    "main = pd.read_csv(join(results, 'Study1_item_wise_main.csv'))\n",
    "pressure = pd.read_csv(join(results, 'Study1_item_wise_pressure.csv'))\n",
    "\n",
    "main = main[(main.TRIAL == 'experiment') & (main.SELECTED != 'NO')]\n",
    "pressure = pressure[(pressure.TRIAL == 'experiment') & (pressure.SELECTED != 'NO')]"
   ]
  },
  {
   "cell_type": "code",
   "execution_count": 16,
   "metadata": {
    "ExecuteTime": {
     "end_time": "2019-03-13T12:37:34.152540Z",
     "start_time": "2019-03-13T12:37:33.876137Z"
    }
   },
   "outputs": [
    {
     "data": {
      "application/vnd.jupyter.widget-view+json": {
       "model_id": "806561e21774475a9f61aeb10fc9d986",
       "version_major": 2,
       "version_minor": 0
      },
      "text/plain": [
       "QgridWidget(grid_options={'fullWidthRows': True, 'syncColumnCellResize': True, 'forceFitColumns': True, 'defau…"
      ]
     },
     "metadata": {},
     "output_type": "display_data"
    }
   ],
   "source": [
    "qgrid.show_grid(main)"
   ]
  },
  {
   "cell_type": "code",
   "execution_count": 15,
   "metadata": {
    "ExecuteTime": {
     "end_time": "2019-03-13T12:37:22.620567Z",
     "start_time": "2019-03-13T12:37:22.321507Z"
    }
   },
   "outputs": [
    {
     "data": {
      "application/vnd.jupyter.widget-view+json": {
       "model_id": "dedf33b19a2e4609bd6de463196cadbe",
       "version_major": 2,
       "version_minor": 0
      },
      "text/plain": [
       "QgridWidget(grid_options={'fullWidthRows': True, 'syncColumnCellResize': True, 'forceFitColumns': True, 'defau…"
      ]
     },
     "metadata": {},
     "output_type": "display_data"
    }
   ],
   "source": [
    "qgrid.show_grid(pressure)"
   ]
  },
  {
   "cell_type": "code",
   "execution_count": 10,
   "metadata": {
    "ExecuteTime": {
     "end_time": "2019-03-15T11:32:48.123855Z",
     "start_time": "2019-03-15T11:32:48.109794Z"
    }
   },
   "outputs": [
    {
     "name": "stdout",
     "output_type": "stream",
     "text": [
      "['A', 'A', 'A', 'B', 'B', 'B', 'C', 'C', 'C', 'D', 'D', 'D', 'E', 'E', 'E', 'F', 'F', 'F']\n",
      "['D5' 'D3' 'D2' 'D1' 'D4' 'D0']\n",
      "['A', 'C', 'D', 'A', 'E', 'F', 'D', 'C', 'B', 'E', 'C', 'B', 'B', 'F', 'A', 'D', 'F', 'E']\n",
      "1.7917594692280547\n"
     ]
    }
   ],
   "source": [
    "def H(labels, base=None):\n",
    "  value,counts = np.unique(labels, return_counts=True)\n",
    "  return entropy(counts, base=base)\n",
    "\n",
    "\n",
    "labels = main.SELECTED.tolist()\n",
    "labels = ['A'] * 3 + ['B']*3 + ['C']*3+['D']*3 + ['E']*3 + ['F']*3\n",
    "print(labels)\n",
    "print(main.SELECTED.unique())\n",
    "import random\n",
    "random.shuffle(labels)\n",
    "print(labels)\n",
    "print(H(labels))\n"
   ]
  },
  {
   "cell_type": "code",
   "execution_count": 9,
   "metadata": {
    "ExecuteTime": {
     "end_time": "2019-03-13T12:34:17.622013Z",
     "start_time": "2019-03-13T12:34:17.611737Z"
    }
   },
   "outputs": [
    {
     "data": {
      "text/plain": [
       "(array(['D0', 'D1', 'D2', 'D3', 'D4', 'D5'], dtype='<U2'),\n",
       " array([ 320,  380,  431,  669,  808, 2039]))"
      ]
     },
     "execution_count": 9,
     "metadata": {},
     "output_type": "execute_result"
    }
   ],
   "source": [
    "labels = main.SELECTED.tolist()\n",
    "np.unique(labels, return_counts=True)"
   ]
  },
  {
   "cell_type": "code",
   "execution_count": 20,
   "metadata": {
    "ExecuteTime": {
     "end_time": "2019-03-13T12:44:09.795440Z",
     "start_time": "2019-03-13T12:44:09.620430Z"
    }
   },
   "outputs": [],
   "source": [
    "m = main.groupby('ID').SELECTED.apply(H)\n",
    "p = pressure.groupby('ID').SELECTED.apply(H)"
   ]
  },
  {
   "cell_type": "code",
   "execution_count": 23,
   "metadata": {
    "ExecuteTime": {
     "end_time": "2019-03-13T12:44:54.837817Z",
     "start_time": "2019-03-13T12:44:54.824799Z"
    }
   },
   "outputs": [
    {
     "name": "stderr",
     "output_type": "stream",
     "text": [
      "/home/bkroczek/.anaconda3/lib/python3.7/site-packages/ipykernel_launcher.py:1: FutureWarning: The signature of `Series.to_csv` was aligned to that of `DataFrame.to_csv`, and argument 'header' will change its default value from False to True: please pass an explicit value to suppress this warning.\n",
      "  \"\"\"Entry point for launching an IPython kernel.\n",
      "/home/bkroczek/.anaconda3/lib/python3.7/site-packages/ipykernel_launcher.py:2: FutureWarning: The signature of `Series.to_csv` was aligned to that of `DataFrame.to_csv`, and argument 'header' will change its default value from False to True: please pass an explicit value to suppress this warning.\n",
      "  \n"
     ]
    }
   ],
   "source": [
    "m.to_csv('entropy_main.csv')\n",
    "p.to_csv('entropy_pressure.csv')"
   ]
  },
  {
   "cell_type": "code",
   "execution_count": null,
   "metadata": {},
   "outputs": [],
   "source": [
    "\n"
   ]
  }
 ],
 "metadata": {
  "kernelspec": {
   "display_name": "Python 3",
   "language": "python",
   "name": "python3"
  },
  "language_info": {
   "codemirror_mode": {
    "name": "ipython",
    "version": 3
   },
   "file_extension": ".py",
   "mimetype": "text/x-python",
   "name": "python",
   "nbconvert_exporter": "python",
   "pygments_lexer": "ipython3",
   "version": "3.7.1"
  },
  "latex_envs": {
   "LaTeX_envs_menu_present": true,
   "autoclose": false,
   "autocomplete": true,
   "bibliofile": "biblio.bib",
   "cite_by": "apalike",
   "current_citInitial": 1,
   "eqLabelWithNumbers": true,
   "eqNumInitial": 1,
   "hotkeys": {
    "equation": "Ctrl-E",
    "itemize": "Ctrl-I"
   },
   "labels_anchors": false,
   "latex_user_defs": false,
   "report_style_numbering": false,
   "user_envs_cfg": false
  },
  "varInspector": {
   "cols": {
    "lenName": 16,
    "lenType": 16,
    "lenVar": 40
   },
   "kernels_config": {
    "python": {
     "delete_cmd_postfix": "",
     "delete_cmd_prefix": "del ",
     "library": "var_list.py",
     "varRefreshCmd": "print(var_dic_list())"
    },
    "r": {
     "delete_cmd_postfix": ") ",
     "delete_cmd_prefix": "rm(",
     "library": "var_list.r",
     "varRefreshCmd": "cat(var_dic_list()) "
    }
   },
   "position": {
    "height": "500px",
    "left": "520px",
    "right": "20px",
    "top": "129px",
    "width": "350px"
   },
   "types_to_exclude": [
    "module",
    "function",
    "builtin_function_or_method",
    "instance",
    "_Feature"
   ],
   "window_display": false
  }
 },
 "nbformat": 4,
 "nbformat_minor": 2
}
